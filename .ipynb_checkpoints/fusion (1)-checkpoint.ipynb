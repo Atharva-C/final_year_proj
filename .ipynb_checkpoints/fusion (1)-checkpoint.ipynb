{
  "cells": [
    {
      "cell_type": "code",
      "execution_count": null,
      "metadata": {
        "colab": {
          "background_save": true
        },
        "id": "ImruMttT7BLb"
      },
      "outputs": [],
      "source": [
        "import cv2, os, random\n",
        "import numpy as np\n",
        "import shutil\n",
        "import pandas as pd\n",
        "import matplotlib.pyplot as plt"
      ]
    },
    {
      "cell_type": "code",
      "execution_count": null,
      "metadata": {
        "colab": {
          "base_uri": "https://localhost:8080/"
        },
        "id": "qoyMC4qt7Wjw",
        "outputId": "4c8df906-d4fe-4eae-bdf9-01e287252866"
      },
      "outputs": [
        {
          "name": "stdout",
          "output_type": "stream",
          "text": [
            "Drive already mounted at /content/drive; to attempt to forcibly remount, call drive.mount(\"/content/drive\", force_remount=True).\n"
          ]
        }
      ],
      "source": [
        "from google.colab import drive\n",
        "drive.mount('/content/drive')"
      ]
    },
    {
      "cell_type": "code",
      "execution_count": null,
      "metadata": {
        "id": "nYjzpgbm7BLl"
      },
      "outputs": [],
      "source": [
        "import tensorflow as tf\n",
        "from tensorflow import keras\n",
        "from tensorflow.keras.models import Sequential,Model\n",
        "from tensorflow.keras.layers import Dense, Dropout, Flatten,concatenate,Input,LSTM, Reshape,Permute\n",
        "from tensorflow.keras.layers import Conv2D, MaxPooling2D,Conv1D\n",
        "from tensorflow.keras import backend as K\n",
        "from tensorflow.keras.layers import BatchNormalization\n",
        "\n",
        "\n",
        "from numpy import asarray\n",
        "from numpy import zeros\n",
        "from tensorflow.keras.preprocessing.text import Tokenizer\n",
        "from tensorflow.keras.preprocessing.sequence import pad_sequences\n",
        "from tensorflow.keras.models import Sequential\n",
        "from tensorflow.keras.layers import Dense\n",
        "from tensorflow.keras.layers import Flatten\n",
        "from tensorflow.keras.layers import Embedding\n",
        "from tensorflow.keras.initializers import he_normal\n",
        "from time import time\n",
        "from tensorflow.keras.callbacks import TensorBoard\n",
        "\n",
        "from tensorflow.keras.models import *\n",
        "from tensorflow.keras.layers import *\n",
        "from tensorflow.keras.optimizers import *\n",
        "from tensorflow.keras.callbacks import ModelCheckpoint, LearningRateScheduler\n",
        "from tensorflow.keras import backend as K"
      ]
    },
    {
      "cell_type": "code",
      "execution_count": null,
      "metadata": {
        "colab": {
          "base_uri": "https://localhost:8080/"
        },
        "id": "6Etqc7bp7BLo",
        "outputId": "722e228f-b457-4947-f601-9111ce487a31"
      },
      "outputs": [
        {
          "data": {
            "text/plain": [
              "['leftImg8bit', 'gtFine']"
            ]
          },
          "execution_count": 4,
          "metadata": {},
          "output_type": "execute_result"
        }
      ],
      "source": [
        "os. listdir('/content/drive/MyDrive/Major_Project/Shrutee/idd20k_lite')"
      ]
    },
    {
      "cell_type": "code",
      "execution_count": null,
      "metadata": {
        "id": "7v6Oq5Qx7BLr"
      },
      "outputs": [],
      "source": [
        "data = '/content/drive/MyDrive/Major_Project/Shrutee/idd20k_lite/'\n",
        "\n",
        "img_train = data + 'leftImg8bit/train/'\n",
        "seg_train = data + 'gtFine/train/'\n",
        "\n",
        "img_val = data + 'leftImg8bit/val/'\n",
        "seg_val = data + 'gtFine/val/'\n",
        "\n",
        "img_test = data + 'leftImg8bit/test/'"
      ]
    },
    {
      "cell_type": "code",
      "execution_count": null,
      "metadata": {
        "id": "77sgy9O87BLs"
      },
      "outputs": [],
      "source": [
        "img_train_files = sorted(os.listdir(img_train))\n",
        "seg_train_files = sorted(os.listdir(seg_train))\n",
        "img_val_files = sorted(os.listdir(img_val))\n",
        "seg_val_files = sorted(os.listdir(seg_val))\n",
        "img_test_files = sorted(os.listdir(img_test))"
      ]
    },
    {
      "cell_type": "code",
      "execution_count": null,
      "metadata": {
        "id": "NHwP6i8l7BLs"
      },
      "outputs": [],
      "source": [
        "data = '/content/drive/MyDrive/Major_Project/Shrutee/idd20k_lite/'\n",
        "\n",
        "img_train = data + 'leftImg8bit/train/'\n",
        "seg_train = data + 'gtFine/train/'\n",
        "\n",
        "img_test = data + 'leftImg8bit/val/'\n",
        "seg_test = data + 'gtFine/val/'"
      ]
    },
    {
      "cell_type": "code",
      "execution_count": null,
      "metadata": {
        "id": "CjofL8Go7BLt"
      },
      "outputs": [],
      "source": [
        "img_train_files = sorted(os.listdir(img_train))\n",
        "seg_train_files = sorted(os.listdir(seg_train))\n",
        "img_test_files = sorted(os.listdir(img_test))\n",
        "seg_test_files = sorted(os.listdir(seg_test))"
      ]
    },
    {
      "cell_type": "code",
      "execution_count": null,
      "metadata": {
        "id": "vP5_StqH7BLu"
      },
      "outputs": [],
      "source": [
        "train_img = os.listdir(img_train)\n",
        "train_img.sort()\n",
        "train_seg = os.listdir(seg_train)\n",
        "train_seg.sort()\n",
        "\n",
        "test_img = os.listdir(img_test)\n",
        "test_img.sort()\n",
        "test_seg = os.listdir(seg_test)\n",
        "test_seg.sort()"
      ]
    },
    {
      "cell_type": "code",
      "execution_count": null,
      "metadata": {
        "colab": {
          "base_uri": "https://localhost:8080/"
        },
        "id": "9aKBgh0B7BLv",
        "outputId": "c5d1ecbb-76b1-4ec2-c991-ea24002b1ad2"
      },
      "outputs": [
        {
          "data": {
            "text/plain": [
              "['0000002_inst_label.png',\n",
              " '0000002_label.png',\n",
              " '0000097_inst_label.png',\n",
              " '0000097_label.png',\n",
              " '0000192_inst_label.png',\n",
              " '0000192_label.png']"
            ]
          },
          "execution_count": 10,
          "metadata": {},
          "output_type": "execute_result"
        }
      ],
      "source": [
        "train_seg[:6]"
      ]
    },
    {
      "cell_type": "code",
      "execution_count": null,
      "metadata": {
        "colab": {
          "base_uri": "https://localhost:8080/"
        },
        "id": "UgavDWJA7BLw",
        "outputId": "439ea942-5f52-49ce-9a3b-1002e0334d1d"
      },
      "outputs": [
        {
          "data": {
            "text/plain": [
              "['0000000_inst_label.png',\n",
              " '0000000_label.png',\n",
              " '000065_inst_label.png',\n",
              " '000065_label.png',\n",
              " '0001080_inst_label.png',\n",
              " '0001080_label.png']"
            ]
          },
          "execution_count": 11,
          "metadata": {},
          "output_type": "execute_result"
        }
      ],
      "source": [
        "test_seg[:6]"
      ]
    },
    {
      "cell_type": "code",
      "execution_count": null,
      "metadata": {
        "id": "5YNBTt4A7BLx"
      },
      "outputs": [],
      "source": [
        "# separating semantic and instance segmentation labels\n",
        "train_seg_label=[]\n",
        "train_inst_seg=[]\n",
        "for i in range(1,len(train_seg)):\n",
        "    if(i%2 !=0):\n",
        "        train_seg_label.append(train_seg[i])\n",
        "    else:\n",
        "        train_inst_seg.append(train_seg[i])\n",
        "\n",
        "test_seg_label=[]\n",
        "test_inst_seg=[]\n",
        "for i in range(len(test_seg)):\n",
        "    if(i%2 !=0):\n",
        "        test_seg_label.append(test_seg[i])\n",
        "    else:\n",
        "        test_inst_seg.append(test_seg[i])"
      ]
    },
    {
      "cell_type": "code",
      "execution_count": null,
      "metadata": {
        "colab": {
          "base_uri": "https://localhost:8080/"
        },
        "id": "9cUKDWJU7BLy",
        "outputId": "d6c46860-3138-458d-f956-102d543c894d"
      },
      "outputs": [
        {
          "name": "stdout",
          "output_type": "stream",
          "text": [
            "1380\n",
            "1380\n",
            "204\n",
            "204\n",
            "['0000002_image.jpg', '0000097_image.jpg', '0000192_image.jpg', '0000215_image.jpg', '0000247_image.jpg']\n",
            "['0000002_label.png', '0000097_label.png', '0000192_label.png', '0000215_label.png', '0000247_label.png']\n",
            "['0000000_image.jpg', '000065_image.jpg', '0001080_image.jpg', '000190_image.jpg', '0001923_image.jpg']\n",
            "['0000000_label.png', '000065_label.png', '0001080_label.png', '000190_label.png', '0001923_label.png']\n"
          ]
        }
      ],
      "source": [
        "print(len(train_img))\n",
        "print(len(train_seg_label))\n",
        "print(len(test_img))\n",
        "print(len(test_seg_label))\n",
        "\n",
        "print(train_img[:5])\n",
        "print(train_seg_label[:5])\n",
        "print(test_img[:5])\n",
        "print(test_seg_label[:5])"
      ]
    },
    {
      "cell_type": "code",
      "execution_count": null,
      "metadata": {
        "id": "1Zy1dEf57BLz"
      },
      "outputs": [],
      "source": [
        "from sklearn.model_selection import train_test_split\n",
        "\n",
        "X_tr,X_cr, y_tr, y_cr = train_test_split(train_img, train_seg_label, test_size=0.25, random_state=15)"
      ]
    },
    {
      "cell_type": "code",
      "execution_count": null,
      "metadata": {
        "id": "rFG68IdX7BL0"
      },
      "outputs": [],
      "source": [
        "# Resizing image height to 256 beacuse to send as image as inout to uNET model the height and width of the image should\n",
        "# multiples of 32\n",
        "height=256\n",
        "width=320\n",
        "n_classes=7\n",
        "def prepare_image_data(path,data):\n",
        "    src=path+data\n",
        "    img = cv2.imread(src)\n",
        "    img=cv2.resize(img,(width,height))\n",
        "    img = np.float32(img)  / 255          #normalization\n",
        "    return img\n",
        "\n",
        "# https://github.com/advaitsave/Multiclass-Semantic-Segmentation-CamVid/blob/master/Multiclass%20Semantic%20Segmentation%20using%20U-Net.ipynb\n",
        "def prepare_label_data(path,data):\n",
        "    label = np.zeros((height, width, n_classes))\n",
        "    src=path+data\n",
        "    img = cv2.imread(src)\n",
        "    img=cv2.resize(img,(width,height))\n",
        "    img1=img[:,:,0]\n",
        "    for i in range(n_classes):\n",
        "        label[:,:,i] = (img1==i).astype(int)\n",
        "    return label\n"
      ]
    },
    {
      "cell_type": "code",
      "execution_count": null,
      "metadata": {
        "id": "usfznoES7BL0"
      },
      "outputs": [],
      "source": [
        "X_train, y_train, X_val, y_val, X_test, y_test = [], [], [], [], [], []"
      ]
    },
    {
      "cell_type": "code",
      "execution_count": null,
      "metadata": {
        "id": "Ip5_IoMZ7BL1"
      },
      "outputs": [],
      "source": [
        "for i in range(len(X_tr)):\n",
        "    X_train.append(prepare_image_data(img_train,X_tr[i]))\n",
        "\n",
        "for i in range(len(y_tr)):\n",
        "    y_train.append(prepare_label_data(seg_train,y_tr[i]))\n",
        "\n",
        "for i in range(len(X_cr)):\n",
        "    X_val.append(prepare_image_data(img_train,X_cr[i]))\n",
        "\n",
        "for i in range(len(y_cr)):\n",
        "    y_val.append(prepare_label_data(seg_train,y_cr[i]))"
      ]
    },
    {
      "cell_type": "code",
      "execution_count": null,
      "metadata": {
        "id": "t-NrOBD77BL1"
      },
      "outputs": [],
      "source": [
        "X_train=np.array(X_train)\n",
        "y_train=np.array(y_train)\n",
        "X_val=np.array(X_val)\n",
        "y_val=np.array(y_val)"
      ]
    },
    {
      "cell_type": "code",
      "execution_count": null,
      "metadata": {
        "colab": {
          "base_uri": "https://localhost:8080/"
        },
        "id": "AospsFAG7BL2",
        "outputId": "d414a8e5-0e47-492c-b307-f7420b2afce4"
      },
      "outputs": [
        {
          "name": "stdout",
          "output_type": "stream",
          "text": [
            "Train Data : \n",
            "Images- (1035, 256, 320, 3)\n",
            "Labels- (1035, 256, 320, 7)\n",
            "========================================\n",
            "Validation Data : \n",
            "Images- (345, 256, 320, 3)\n",
            "Labels- (345, 256, 320, 7)\n",
            "========================================\n"
          ]
        }
      ],
      "source": [
        "print('Train Data : ')\n",
        "print('Images-',X_train.shape)\n",
        "print('Labels-',y_train.shape)\n",
        "print('='*40)\n",
        "print('Validation Data : ')\n",
        "print('Images-',X_val.shape)\n",
        "print('Labels-',y_val.shape)\n",
        "print('='*40)"
      ]
    },
    {
      "cell_type": "code",
      "execution_count": null,
      "metadata": {
        "id": "5Ux7ijkX7BL2"
      },
      "outputs": [],
      "source": [
        "tf.keras.backend.clear_session()"
      ]
    },
    {
      "cell_type": "code",
      "execution_count": null,
      "metadata": {
        "id": "stcGJjin7BL3"
      },
      "outputs": [],
      "source": [
        "import random as rn\n",
        "np.random.seed(24)\n",
        "tf.random.set_seed(28)\n",
        "rn.seed(12)"
      ]
    },
    {
      "cell_type": "code",
      "execution_count": null,
      "metadata": {
        "id": "_UlyG11N7BL3"
      },
      "outputs": [],
      "source": [
        "def IoU(y_val, y_pred):\n",
        "    class_iou = []\n",
        "    n_classes = 7\n",
        "\n",
        "    y_predi = np.argmax(y_pred, axis=3)\n",
        "    y_truei = np.argmax(y_val, axis=3)\n",
        "\n",
        "    for c in range(n_classes):\n",
        "        TP = np.sum((y_truei == c) & (y_predi == c))\n",
        "        FP = np.sum((y_truei != c) & (y_predi == c))\n",
        "        FN = np.sum((y_truei == c) & (y_predi != c))\n",
        "        IoU = TP / float(TP + FP + FN)\n",
        "        if(float(TP + FP + FN) == 0):\n",
        "          IoU=TP/0.001\n",
        "        class_iou.append(IoU)\n",
        "    MIoU=sum(class_iou)/n_classes\n",
        "    return MIoU"
      ]
    },
    {
      "cell_type": "code",
      "execution_count": null,
      "metadata": {
        "id": "pV7fL05k7BL3"
      },
      "outputs": [],
      "source": [
        "def miou( y_true, y_pred ) :\n",
        "    score = tf.py_function( lambda y_true, y_pred : IoU( y_true, y_pred).astype('float32'),\n",
        "                        [y_true, y_pred],\n",
        "                        'float32')\n",
        "    return score"
      ]
    },
    {
      "cell_type": "code",
      "execution_count": null,
      "metadata": {
        "id": "Ktv2Q1XJcPdX"
      },
      "outputs": [],
      "source": [
        "from tensorflow.keras.layers import Concatenate, Conv2D, UpSampling2D\n",
        "from tensorflow.keras.models import Model\n",
        "from tensorflow.keras.optimizers import Adam\n",
        "import tensorflow as tf\n",
        "import os"
      ]
    },
    {
      "cell_type": "code",
      "execution_count": null,
      "metadata": {
        "id": "GvvB_spyscWn"
      },
      "outputs": [],
      "source": [
        "from tensorflow.keras.applications.vgg16 import VGG16\n",
        "encoder_vgg16 = VGG16(input_shape =  (256, 320,3), include_top = False, weights = 'imagenet')\n",
        "encoder_vgg16.trainable = False"
      ]
    },
    {
      "cell_type": "code",
      "execution_count": null,
      "metadata": {
        "id": "wci1WSh6sXtp"
      },
      "outputs": [],
      "source": [
        "for l in encoder_vgg16.layers:\n",
        "    l.trainable = False"
      ]
    },
    {
      "cell_type": "code",
      "execution_count": null,
      "metadata": {
        "id": "fE_xwCNycbcy"
      },
      "outputs": [],
      "source": [
        "conv1 = encoder_vgg16.get_layer(\"block1_conv2\").output\n",
        "conv2 = encoder_vgg16.get_layer(\"block2_conv2\").output\n",
        "conv3 = encoder_vgg16.get_layer(\"block3_conv3\").output\n",
        "conv4 = encoder_vgg16.get_layer(\"block4_conv3\").output\n",
        "\n",
        "def vgg_unet1():\n",
        "\n",
        "    up5 = Conv2D(256, 2, activation = 'relu', padding = 'same',\n",
        "                   kernel_initializer = keras.initializers.glorot_normal(seed=58))(UpSampling2D(size = (2,2))(conv4))\n",
        "    merge5 = concatenate([conv3,up5], axis = 3)\n",
        "    conv5 = Conv2D(256, 3, activation = 'relu', padding = 'same',\n",
        "                   kernel_initializer = keras.initializers.glorot_normal(seed=58))(merge5)\n",
        "    conv5 = Conv2D(256, 3, activation = 'relu', padding = 'same',\n",
        "                   kernel_initializer = keras.initializers.glorot_normal(seed=58))(conv5)\n",
        "\n",
        "    up6 = Conv2D(128, 2, activation = 'relu', padding = 'same',\n",
        "                 kernel_initializer = keras.initializers.glorot_normal(seed=58))(UpSampling2D(size = (2,2))(conv5))\n",
        "    merge6 = concatenate([conv2,up6], axis = 3)\n",
        "    conv6 = Conv2D(128, 3, activation = 'relu', padding = 'same',\n",
        "                   kernel_initializer = keras.initializers.glorot_normal(seed=58))(merge6)\n",
        "    conv6 = Conv2D(128, 3, activation = 'relu', padding = 'same',\n",
        "                   kernel_initializer = keras.initializers.glorot_normal(seed=58))(conv6)\n",
        "\n",
        "    up7 = Conv2D(64, 2, activation = 'relu', padding = 'same',\n",
        "                 kernel_initializer = keras.initializers.glorot_normal(seed=58))(UpSampling2D(size = (2,2))(conv6))\n",
        "    merge7 = concatenate([conv1,up7], axis = 3)\n",
        "    conv7 = Conv2D(64, 3, activation = 'relu', padding = 'same',\n",
        "                   kernel_initializer = keras.initializers.glorot_normal(seed=58))(merge7)\n",
        "    conv7 = Conv2D(64, 3, activation = 'relu', padding = 'same',\n",
        "                   kernel_initializer = keras.initializers.glorot_normal(seed=58))(conv7)\n",
        "\n",
        "    conv8 = Conv2D(7, 3, activation = 'relu', padding = 'same',\n",
        "                   kernel_initializer = keras.initializers.glorot_normal(seed=58))(conv7)\n",
        "    out = (Activation('softmax'))(conv8)\n",
        "\n",
        "    model = Model(encoder_vgg16.input,out)\n",
        "\n",
        "    return model"
      ]
    },
    {
      "cell_type": "code",
      "execution_count": null,
      "metadata": {
        "colab": {
          "base_uri": "https://localhost:8080/"
        },
        "id": "T4nO5zqWsnH6",
        "outputId": "dbca215e-4a7f-4461-c258-576edaa664cf"
      },
      "outputs": [
        {
          "name": "stdout",
          "output_type": "stream",
          "text": [
            "Model: \"model\"\n",
            "__________________________________________________________________________________________________\n",
            " Layer (type)                Output Shape                 Param #   Connected to                  \n",
            "==================================================================================================\n",
            " input_1 (InputLayer)        [(None, 256, 320, 3)]        0         []                            \n",
            "                                                                                                  \n",
            " block1_conv1 (Conv2D)       (None, 256, 320, 64)         1792      ['input_1[0][0]']             \n",
            "                                                                                                  \n",
            " block1_conv2 (Conv2D)       (None, 256, 320, 64)         36928     ['block1_conv1[0][0]']        \n",
            "                                                                                                  \n",
            " block1_pool (MaxPooling2D)  (None, 128, 160, 64)         0         ['block1_conv2[0][0]']        \n",
            "                                                                                                  \n",
            " block2_conv1 (Conv2D)       (None, 128, 160, 128)        73856     ['block1_pool[0][0]']         \n",
            "                                                                                                  \n",
            " block2_conv2 (Conv2D)       (None, 128, 160, 128)        147584    ['block2_conv1[0][0]']        \n",
            "                                                                                                  \n",
            " block2_pool (MaxPooling2D)  (None, 64, 80, 128)          0         ['block2_conv2[0][0]']        \n",
            "                                                                                                  \n",
            " block3_conv1 (Conv2D)       (None, 64, 80, 256)          295168    ['block2_pool[0][0]']         \n",
            "                                                                                                  \n",
            " block3_conv2 (Conv2D)       (None, 64, 80, 256)          590080    ['block3_conv1[0][0]']        \n",
            "                                                                                                  \n",
            " block3_conv3 (Conv2D)       (None, 64, 80, 256)          590080    ['block3_conv2[0][0]']        \n",
            "                                                                                                  \n",
            " block3_pool (MaxPooling2D)  (None, 32, 40, 256)          0         ['block3_conv3[0][0]']        \n",
            "                                                                                                  \n",
            " block4_conv1 (Conv2D)       (None, 32, 40, 512)          1180160   ['block3_pool[0][0]']         \n",
            "                                                                                                  \n",
            " block4_conv2 (Conv2D)       (None, 32, 40, 512)          2359808   ['block4_conv1[0][0]']        \n",
            "                                                                                                  \n",
            " block4_conv3 (Conv2D)       (None, 32, 40, 512)          2359808   ['block4_conv2[0][0]']        \n",
            "                                                                                                  \n",
            " up_sampling2d (UpSampling2  (None, 64, 80, 512)          0         ['block4_conv3[0][0]']        \n",
            " D)                                                                                               \n",
            "                                                                                                  \n",
            " conv2d (Conv2D)             (None, 64, 80, 256)          524544    ['up_sampling2d[0][0]']       \n",
            "                                                                                                  \n",
            " concatenate (Concatenate)   (None, 64, 80, 512)          0         ['block3_conv3[0][0]',        \n",
            "                                                                     'conv2d[0][0]']              \n",
            "                                                                                                  \n",
            " conv2d_1 (Conv2D)           (None, 64, 80, 256)          1179904   ['concatenate[0][0]']         \n",
            "                                                                                                  \n",
            " conv2d_2 (Conv2D)           (None, 64, 80, 256)          590080    ['conv2d_1[0][0]']            \n",
            "                                                                                                  \n",
            " up_sampling2d_1 (UpSamplin  (None, 128, 160, 256)        0         ['conv2d_2[0][0]']            \n",
            " g2D)                                                                                             \n",
            "                                                                                                  \n",
            " conv2d_3 (Conv2D)           (None, 128, 160, 128)        131200    ['up_sampling2d_1[0][0]']     \n",
            "                                                                                                  \n",
            " concatenate_1 (Concatenate  (None, 128, 160, 256)        0         ['block2_conv2[0][0]',        \n",
            " )                                                                   'conv2d_3[0][0]']            \n",
            "                                                                                                  \n",
            " conv2d_4 (Conv2D)           (None, 128, 160, 128)        295040    ['concatenate_1[0][0]']       \n",
            "                                                                                                  \n",
            " conv2d_5 (Conv2D)           (None, 128, 160, 128)        147584    ['conv2d_4[0][0]']            \n",
            "                                                                                                  \n",
            " up_sampling2d_2 (UpSamplin  (None, 256, 320, 128)        0         ['conv2d_5[0][0]']            \n",
            " g2D)                                                                                             \n",
            "                                                                                                  \n",
            " conv2d_6 (Conv2D)           (None, 256, 320, 64)         32832     ['up_sampling2d_2[0][0]']     \n",
            "                                                                                                  \n",
            " concatenate_2 (Concatenate  (None, 256, 320, 128)        0         ['block1_conv2[0][0]',        \n",
            " )                                                                   'conv2d_6[0][0]']            \n",
            "                                                                                                  \n",
            " conv2d_7 (Conv2D)           (None, 256, 320, 64)         73792     ['concatenate_2[0][0]']       \n",
            "                                                                                                  \n",
            " conv2d_8 (Conv2D)           (None, 256, 320, 64)         36928     ['conv2d_7[0][0]']            \n",
            "                                                                                                  \n",
            " conv2d_9 (Conv2D)           (None, 256, 320, 7)          4039      ['conv2d_8[0][0]']            \n",
            "                                                                                                  \n",
            " activation (Activation)     (None, 256, 320, 7)          0         ['conv2d_9[0][0]']            \n",
            "                                                                                                  \n",
            "==================================================================================================\n",
            "Total params: 10651207 (40.63 MB)\n",
            "Trainable params: 3015943 (11.50 MB)\n",
            "Non-trainable params: 7635264 (29.13 MB)\n",
            "__________________________________________________________________________________________________\n"
          ]
        }
      ],
      "source": [
        "vgg_unet_model1 = vgg_unet1()\n",
        "vgg_unet_model1.summary()"
      ]
    },
    {
      "cell_type": "code",
      "execution_count": null,
      "metadata": {
        "id": "fsjj7eX5comR"
      },
      "outputs": [],
      "source": [
        "def linknet_vgg16(input_shape=(256, 320, 3), num_classes=7):\n",
        "    inputs = Input(shape=input_shape)\n",
        "\n",
        "    encoder = linknet_encoder(input_shape)\n",
        "    encoded = encoder(inputs)\n",
        "\n",
        "    decoder = linknet_decoder(encoded)\n",
        "\n",
        "    x = Conv2D(num_classes, (1, 1), activation='softmax', padding='same', kernel_initializer='he_normal')(decoder)\n",
        "\n",
        "    model = Model(inputs, x, name='linknet')\n",
        "\n",
        "    return model\n"
      ]
    },
    {
      "cell_type": "code",
      "execution_count": null,
      "metadata": {
        "id": "RaEtvUzC8Fzh"
      },
      "outputs": [],
      "source": [
        "def linknet_encoder(input_shape):\n",
        "    inputs = Input(shape=input_shape)\n",
        "\n",
        "    # Encoder\n",
        "    enc1 = linknet_block(inputs, 64, conv_shortcut=True)\n",
        "    enc2 = linknet_block(enc1, 128, strides=(2, 2), conv_shortcut=True)\n",
        "    enc3 = linknet_block(enc2, 256, strides=(2, 2), conv_shortcut=True)\n",
        "    enc4 = linknet_block(enc3, 512, strides=(2, 2), conv_shortcut=True)\n",
        "\n",
        "    return Model(inputs, enc4, name='encoder')"
      ]
    },
    {
      "cell_type": "code",
      "execution_count": null,
      "metadata": {
        "id": "lSWmFz6Q8LuD"
      },
      "outputs": [],
      "source": [
        "def linknet_block(x, filters, kernel_size=(3, 3), strides=(1, 1), conv_shortcut=False):\n",
        "    if conv_shortcut:\n",
        "        shortcut = Conv2D(filters, (1, 1), strides=strides, padding='same', kernel_initializer='he_normal')(x)\n",
        "        shortcut = BatchNormalization()(shortcut)\n",
        "    else:\n",
        "        shortcut = x\n",
        "\n",
        "    x = Conv2D(filters, kernel_size, strides=strides, padding='same', kernel_initializer='he_normal')(x)\n",
        "    x = BatchNormalization()(x)\n",
        "    x = Activation('relu')(x)\n",
        "\n",
        "    x = Conv2D(filters, kernel_size, padding='same', kernel_initializer='he_normal')(x)\n",
        "    x = BatchNormalization()(x)\n",
        "\n",
        "    x = Add()([x, shortcut])\n",
        "    x = Activation('relu')(x)\n",
        "\n",
        "    return x"
      ]
    },
    {
      "cell_type": "code",
      "execution_count": null,
      "metadata": {
        "id": "2FUWJo0K8QGs"
      },
      "outputs": [],
      "source": [
        "def linknet_decoder(encoded):\n",
        "    # Decoder\n",
        "    dec4 = linknet_block(encoded, 512, conv_shortcut=True)\n",
        "    dec3 = linknet_block(UpSampling2D(size=(2, 2))(dec4), 256, conv_shortcut=True)\n",
        "    dec2 = linknet_block(UpSampling2D(size=(2, 2))(dec3), 128, conv_shortcut=True)\n",
        "    dec1 = linknet_block(UpSampling2D(size=(2, 2))(dec2), 64, conv_shortcut=True)\n",
        "\n",
        "    return dec1"
      ]
    },
    {
      "cell_type": "code",
      "execution_count": null,
      "metadata": {
        "colab": {
          "base_uri": "https://localhost:8080/"
        },
        "id": "T0iwk0Wc7_02",
        "outputId": "7cfa9637-9275-41a5-b159-dff7888f000d"
      },
      "outputs": [
        {
          "name": "stdout",
          "output_type": "stream",
          "text": [
            "Model: \"linknet\"\n",
            "__________________________________________________________________________________________________\n",
            " Layer (type)                Output Shape                 Param #   Connected to                  \n",
            "==================================================================================================\n",
            " input_2 (InputLayer)        [(None, 256, 320, 3)]        0         []                            \n",
            "                                                                                                  \n",
            " encoder (Functional)        (None, 32, 40, 512)          4870080   ['input_2[0][0]']             \n",
            "                                                                                                  \n",
            " conv2d_23 (Conv2D)          (None, 32, 40, 512)          2359808   ['encoder[0][0]']             \n",
            "                                                                                                  \n",
            " batch_normalization_13 (Ba  (None, 32, 40, 512)          2048      ['conv2d_23[0][0]']           \n",
            " tchNormalization)                                                                                \n",
            "                                                                                                  \n",
            " activation_9 (Activation)   (None, 32, 40, 512)          0         ['batch_normalization_13[0][0]\n",
            "                                                                    ']                            \n",
            "                                                                                                  \n",
            " conv2d_24 (Conv2D)          (None, 32, 40, 512)          2359808   ['activation_9[0][0]']        \n",
            "                                                                                                  \n",
            " conv2d_22 (Conv2D)          (None, 32, 40, 512)          262656    ['encoder[0][0]']             \n",
            "                                                                                                  \n",
            " batch_normalization_14 (Ba  (None, 32, 40, 512)          2048      ['conv2d_24[0][0]']           \n",
            " tchNormalization)                                                                                \n",
            "                                                                                                  \n",
            " batch_normalization_12 (Ba  (None, 32, 40, 512)          2048      ['conv2d_22[0][0]']           \n",
            " tchNormalization)                                                                                \n",
            "                                                                                                  \n",
            " add_4 (Add)                 (None, 32, 40, 512)          0         ['batch_normalization_14[0][0]\n",
            "                                                                    ',                            \n",
            "                                                                     'batch_normalization_12[0][0]\n",
            "                                                                    ']                            \n",
            "                                                                                                  \n",
            " activation_10 (Activation)  (None, 32, 40, 512)          0         ['add_4[0][0]']               \n",
            "                                                                                                  \n",
            " up_sampling2d_3 (UpSamplin  (None, 64, 80, 512)          0         ['activation_10[0][0]']       \n",
            " g2D)                                                                                             \n",
            "                                                                                                  \n",
            " conv2d_26 (Conv2D)          (None, 64, 80, 256)          1179904   ['up_sampling2d_3[0][0]']     \n",
            "                                                                                                  \n",
            " batch_normalization_16 (Ba  (None, 64, 80, 256)          1024      ['conv2d_26[0][0]']           \n",
            " tchNormalization)                                                                                \n",
            "                                                                                                  \n",
            " activation_11 (Activation)  (None, 64, 80, 256)          0         ['batch_normalization_16[0][0]\n",
            "                                                                    ']                            \n",
            "                                                                                                  \n",
            " conv2d_27 (Conv2D)          (None, 64, 80, 256)          590080    ['activation_11[0][0]']       \n",
            "                                                                                                  \n",
            " conv2d_25 (Conv2D)          (None, 64, 80, 256)          131328    ['up_sampling2d_3[0][0]']     \n",
            "                                                                                                  \n",
            " batch_normalization_17 (Ba  (None, 64, 80, 256)          1024      ['conv2d_27[0][0]']           \n",
            " tchNormalization)                                                                                \n",
            "                                                                                                  \n",
            " batch_normalization_15 (Ba  (None, 64, 80, 256)          1024      ['conv2d_25[0][0]']           \n",
            " tchNormalization)                                                                                \n",
            "                                                                                                  \n",
            " add_5 (Add)                 (None, 64, 80, 256)          0         ['batch_normalization_17[0][0]\n",
            "                                                                    ',                            \n",
            "                                                                     'batch_normalization_15[0][0]\n",
            "                                                                    ']                            \n",
            "                                                                                                  \n",
            " activation_12 (Activation)  (None, 64, 80, 256)          0         ['add_5[0][0]']               \n",
            "                                                                                                  \n",
            " up_sampling2d_4 (UpSamplin  (None, 128, 160, 256)        0         ['activation_12[0][0]']       \n",
            " g2D)                                                                                             \n",
            "                                                                                                  \n",
            " conv2d_29 (Conv2D)          (None, 128, 160, 128)        295040    ['up_sampling2d_4[0][0]']     \n",
            "                                                                                                  \n",
            " batch_normalization_19 (Ba  (None, 128, 160, 128)        512       ['conv2d_29[0][0]']           \n",
            " tchNormalization)                                                                                \n",
            "                                                                                                  \n",
            " activation_13 (Activation)  (None, 128, 160, 128)        0         ['batch_normalization_19[0][0]\n",
            "                                                                    ']                            \n",
            "                                                                                                  \n",
            " conv2d_30 (Conv2D)          (None, 128, 160, 128)        147584    ['activation_13[0][0]']       \n",
            "                                                                                                  \n",
            " conv2d_28 (Conv2D)          (None, 128, 160, 128)        32896     ['up_sampling2d_4[0][0]']     \n",
            "                                                                                                  \n",
            " batch_normalization_20 (Ba  (None, 128, 160, 128)        512       ['conv2d_30[0][0]']           \n",
            " tchNormalization)                                                                                \n",
            "                                                                                                  \n",
            " batch_normalization_18 (Ba  (None, 128, 160, 128)        512       ['conv2d_28[0][0]']           \n",
            " tchNormalization)                                                                                \n",
            "                                                                                                  \n",
            " add_6 (Add)                 (None, 128, 160, 128)        0         ['batch_normalization_20[0][0]\n",
            "                                                                    ',                            \n",
            "                                                                     'batch_normalization_18[0][0]\n",
            "                                                                    ']                            \n",
            "                                                                                                  \n",
            " activation_14 (Activation)  (None, 128, 160, 128)        0         ['add_6[0][0]']               \n",
            "                                                                                                  \n",
            " up_sampling2d_5 (UpSamplin  (None, 256, 320, 128)        0         ['activation_14[0][0]']       \n",
            " g2D)                                                                                             \n",
            "                                                                                                  \n",
            " conv2d_32 (Conv2D)          (None, 256, 320, 64)         73792     ['up_sampling2d_5[0][0]']     \n",
            "                                                                                                  \n",
            " batch_normalization_22 (Ba  (None, 256, 320, 64)         256       ['conv2d_32[0][0]']           \n",
            " tchNormalization)                                                                                \n",
            "                                                                                                  \n",
            " activation_15 (Activation)  (None, 256, 320, 64)         0         ['batch_normalization_22[0][0]\n",
            "                                                                    ']                            \n",
            "                                                                                                  \n",
            " conv2d_33 (Conv2D)          (None, 256, 320, 64)         36928     ['activation_15[0][0]']       \n",
            "                                                                                                  \n",
            " conv2d_31 (Conv2D)          (None, 256, 320, 64)         8256      ['up_sampling2d_5[0][0]']     \n",
            "                                                                                                  \n",
            " batch_normalization_23 (Ba  (None, 256, 320, 64)         256       ['conv2d_33[0][0]']           \n",
            " tchNormalization)                                                                                \n",
            "                                                                                                  \n",
            " batch_normalization_21 (Ba  (None, 256, 320, 64)         256       ['conv2d_31[0][0]']           \n",
            " tchNormalization)                                                                                \n",
            "                                                                                                  \n",
            " add_7 (Add)                 (None, 256, 320, 64)         0         ['batch_normalization_23[0][0]\n",
            "                                                                    ',                            \n",
            "                                                                     'batch_normalization_21[0][0]\n",
            "                                                                    ']                            \n",
            "                                                                                                  \n",
            " activation_16 (Activation)  (None, 256, 320, 64)         0         ['add_7[0][0]']               \n",
            "                                                                                                  \n",
            " conv2d_34 (Conv2D)          (None, 256, 320, 7)          455       ['activation_16[0][0]']       \n",
            "                                                                                                  \n",
            "==================================================================================================\n",
            "Total params: 12360135 (47.15 MB)\n",
            "Trainable params: 12348615 (47.11 MB)\n",
            "Non-trainable params: 11520 (45.00 KB)\n",
            "__________________________________________________________________________________________________\n"
          ]
        }
      ],
      "source": [
        "# Build LinkNet model with VGG16 architecture\n",
        "linknet_vgg16_model = linknet_vgg16()\n",
        "linknet_vgg16_model.summary()"
      ]
    },
    {
      "cell_type": "code",
      "execution_count": null,
      "metadata": {
        "id": "Qj-B_bxM-D3w"
      },
      "outputs": [],
      "source": [
        "from tensorflow.keras.layers import Concatenate"
      ]
    },
    {
      "cell_type": "code",
      "execution_count": null,
      "metadata": {
        "id": "RXyroEzP-GeL"
      },
      "outputs": [],
      "source": [
        "vgg_unet_conv7 = vgg_unet_model1.get_layer('conv2d_9').output  # Assuming 'conv7' is the layer you want to fuse from U-Net with VGG16\n",
        "linknet_vgg16_dec1 = linknet_vgg16_model.get_layer('conv2d_34').output  # Assuming 'conv1' is the layer you want to fuse from LinkNet with VGG16\n"
      ]
    },
    {
      "cell_type": "code",
      "execution_count": null,
      "metadata": {
        "id": "zqdWQKek_I9b"
      },
      "outputs": [],
      "source": [
        "fusion_layer = Concatenate()([vgg_unet_conv7, linknet_vgg16_dec1])\n"
      ]
    },
    {
      "cell_type": "code",
      "execution_count": null,
      "metadata": {
        "id": "EAisF4zY_WBM"
      },
      "outputs": [],
      "source": [
        "fusion_conv = Conv2D(64, 3, activation='relu', padding='same',kernel_initializer=keras.initializers.glorot_normal(seed=58))(fusion_layer)\n",
        "fusion_conv = Conv2D(64, 3, activation='relu', padding='same',kernel_initializer=keras.initializers.glorot_normal(seed=58))(fusion_conv)\n"
      ]
    },
    {
      "cell_type": "code",
      "execution_count": null,
      "metadata": {
        "id": "TtcT6-KG_Pia"
      },
      "outputs": [],
      "source": [
        "fusion_output = Conv2D(7, 3, activation='softmax', padding='same',kernel_initializer=keras.initializers.glorot_normal(seed=58))(fusion_conv)\n"
      ]
    },
    {
      "cell_type": "code",
      "execution_count": null,
      "metadata": {
        "id": "V6jY7893_dzY"
      },
      "outputs": [],
      "source": [
        "fused_model = Model(inputs=[vgg_unet_model1.input, linknet_vgg16_model.input], outputs=fusion_output)\n"
      ]
    },
    {
      "cell_type": "code",
      "source": [
        "def specificity(y_true, y_pred):\n",
        "    true_negatives = K.sum(K.round(K.clip((1 - y_true) * (1 - y_pred), 0, 1)))\n",
        "    possible_negatives = K.sum(K.round(K.clip(1 - y_true, 0, 1)))\n",
        "    return true_negatives / (possible_negatives + K.epsilon())"
      ],
      "metadata": {
        "id": "ionk6CWYOlws"
      },
      "execution_count": null,
      "outputs": []
    },
    {
      "cell_type": "code",
      "source": [
        "def sensitivity(y_true, y_pred):\n",
        "    true_positives = K.sum(K.round(K.clip(y_true * y_pred, 0, 1)))\n",
        "    possible_positives = K.sum(K.round(K.clip(y_true, 0, 1)))\n",
        "    return true_positives / (possible_positives + K.epsilon())"
      ],
      "metadata": {
        "id": "zBwoep2fOo5A"
      },
      "execution_count": null,
      "outputs": []
    },
    {
      "cell_type": "code",
      "source": [
        "def f1_score_metric(y_true, y_pred):\n",
        "    y_true = K.cast(K.argmax(y_true, axis=-1), dtype='float32')\n",
        "    y_pred = K.cast(K.argmax(y_pred, axis=-1), dtype='float32')\n",
        "    true_positives = K.sum(K.round(K.clip(y_true * y_pred, 0, 1)))\n",
        "    predicted_positives = K.sum(K.round(K.clip(y_pred, 0, 1)))\n",
        "    possible_positives = K.sum(K.round(K.clip(y_true, 0, 1)))\n",
        "    precision = true_positives / (predicted_positives + K.epsilon())\n",
        "    recall = true_positives / (possible_positives + K.epsilon())\n",
        "    f1 = 2 * (precision * recall) / (precision + recall + K.epsilon())\n",
        "    return f1"
      ],
      "metadata": {
        "id": "rUy9UrFoQJlJ"
      },
      "execution_count": null,
      "outputs": []
    },
    {
      "cell_type": "code",
      "execution_count": null,
      "metadata": {
        "id": "jwzx7UD5_g_X"
      },
      "outputs": [],
      "source": [
        "fused_model.compile(optimizer=Adam(0.0001), loss='categorical_crossentropy', metrics=['accuracy', miou,specificity,sensitivity,f1_score_metric])\n"
      ]
    },
    {
      "cell_type": "code",
      "execution_count": null,
      "metadata": {
        "colab": {
          "base_uri": "https://localhost:8080/"
        },
        "id": "yXHHbXIU_kM6",
        "outputId": "5c849edc-78d6-4e83-b29a-d8bf8f7c737a"
      },
      "outputs": [
        {
          "name": "stdout",
          "output_type": "stream",
          "text": [
            "Model: \"model_1\"\n",
            "__________________________________________________________________________________________________\n",
            " Layer (type)                Output Shape                 Param #   Connected to                  \n",
            "==================================================================================================\n",
            " input_2 (InputLayer)        [(None, 256, 320, 3)]        0         []                            \n",
            "                                                                                                  \n",
            " encoder (Functional)        (None, 32, 40, 512)          4870080   ['input_2[0][0]']             \n",
            "                                                                                                  \n",
            " conv2d_23 (Conv2D)          (None, 32, 40, 512)          2359808   ['encoder[0][0]']             \n",
            "                                                                                                  \n",
            " batch_normalization_13 (Ba  (None, 32, 40, 512)          2048      ['conv2d_23[0][0]']           \n",
            " tchNormalization)                                                                                \n",
            "                                                                                                  \n",
            " input_1 (InputLayer)        [(None, 256, 320, 3)]        0         []                            \n",
            "                                                                                                  \n",
            " activation_9 (Activation)   (None, 32, 40, 512)          0         ['batch_normalization_13[0][0]\n",
            "                                                                    ']                            \n",
            "                                                                                                  \n",
            " block1_conv1 (Conv2D)       (None, 256, 320, 64)         1792      ['input_1[0][0]']             \n",
            "                                                                                                  \n",
            " conv2d_24 (Conv2D)          (None, 32, 40, 512)          2359808   ['activation_9[0][0]']        \n",
            "                                                                                                  \n",
            " conv2d_22 (Conv2D)          (None, 32, 40, 512)          262656    ['encoder[0][0]']             \n",
            "                                                                                                  \n",
            " block1_conv2 (Conv2D)       (None, 256, 320, 64)         36928     ['block1_conv1[0][0]']        \n",
            "                                                                                                  \n",
            " batch_normalization_14 (Ba  (None, 32, 40, 512)          2048      ['conv2d_24[0][0]']           \n",
            " tchNormalization)                                                                                \n",
            "                                                                                                  \n",
            " batch_normalization_12 (Ba  (None, 32, 40, 512)          2048      ['conv2d_22[0][0]']           \n",
            " tchNormalization)                                                                                \n",
            "                                                                                                  \n",
            " block1_pool (MaxPooling2D)  (None, 128, 160, 64)         0         ['block1_conv2[0][0]']        \n",
            "                                                                                                  \n",
            " add_4 (Add)                 (None, 32, 40, 512)          0         ['batch_normalization_14[0][0]\n",
            "                                                                    ',                            \n",
            "                                                                     'batch_normalization_12[0][0]\n",
            "                                                                    ']                            \n",
            "                                                                                                  \n",
            " block2_conv1 (Conv2D)       (None, 128, 160, 128)        73856     ['block1_pool[0][0]']         \n",
            "                                                                                                  \n",
            " activation_10 (Activation)  (None, 32, 40, 512)          0         ['add_4[0][0]']               \n",
            "                                                                                                  \n",
            " block2_conv2 (Conv2D)       (None, 128, 160, 128)        147584    ['block2_conv1[0][0]']        \n",
            "                                                                                                  \n",
            " up_sampling2d_3 (UpSamplin  (None, 64, 80, 512)          0         ['activation_10[0][0]']       \n",
            " g2D)                                                                                             \n",
            "                                                                                                  \n",
            " block2_pool (MaxPooling2D)  (None, 64, 80, 128)          0         ['block2_conv2[0][0]']        \n",
            "                                                                                                  \n",
            " conv2d_26 (Conv2D)          (None, 64, 80, 256)          1179904   ['up_sampling2d_3[0][0]']     \n",
            "                                                                                                  \n",
            " block3_conv1 (Conv2D)       (None, 64, 80, 256)          295168    ['block2_pool[0][0]']         \n",
            "                                                                                                  \n",
            " batch_normalization_16 (Ba  (None, 64, 80, 256)          1024      ['conv2d_26[0][0]']           \n",
            " tchNormalization)                                                                                \n",
            "                                                                                                  \n",
            " block3_conv2 (Conv2D)       (None, 64, 80, 256)          590080    ['block3_conv1[0][0]']        \n",
            "                                                                                                  \n",
            " activation_11 (Activation)  (None, 64, 80, 256)          0         ['batch_normalization_16[0][0]\n",
            "                                                                    ']                            \n",
            "                                                                                                  \n",
            " block3_conv3 (Conv2D)       (None, 64, 80, 256)          590080    ['block3_conv2[0][0]']        \n",
            "                                                                                                  \n",
            " conv2d_27 (Conv2D)          (None, 64, 80, 256)          590080    ['activation_11[0][0]']       \n",
            "                                                                                                  \n",
            " conv2d_25 (Conv2D)          (None, 64, 80, 256)          131328    ['up_sampling2d_3[0][0]']     \n",
            "                                                                                                  \n",
            " block3_pool (MaxPooling2D)  (None, 32, 40, 256)          0         ['block3_conv3[0][0]']        \n",
            "                                                                                                  \n",
            " batch_normalization_17 (Ba  (None, 64, 80, 256)          1024      ['conv2d_27[0][0]']           \n",
            " tchNormalization)                                                                                \n",
            "                                                                                                  \n",
            " batch_normalization_15 (Ba  (None, 64, 80, 256)          1024      ['conv2d_25[0][0]']           \n",
            " tchNormalization)                                                                                \n",
            "                                                                                                  \n",
            " block4_conv1 (Conv2D)       (None, 32, 40, 512)          1180160   ['block3_pool[0][0]']         \n",
            "                                                                                                  \n",
            " add_5 (Add)                 (None, 64, 80, 256)          0         ['batch_normalization_17[0][0]\n",
            "                                                                    ',                            \n",
            "                                                                     'batch_normalization_15[0][0]\n",
            "                                                                    ']                            \n",
            "                                                                                                  \n",
            " block4_conv2 (Conv2D)       (None, 32, 40, 512)          2359808   ['block4_conv1[0][0]']        \n",
            "                                                                                                  \n",
            " activation_12 (Activation)  (None, 64, 80, 256)          0         ['add_5[0][0]']               \n",
            "                                                                                                  \n",
            " block4_conv3 (Conv2D)       (None, 32, 40, 512)          2359808   ['block4_conv2[0][0]']        \n",
            "                                                                                                  \n",
            " up_sampling2d_4 (UpSamplin  (None, 128, 160, 256)        0         ['activation_12[0][0]']       \n",
            " g2D)                                                                                             \n",
            "                                                                                                  \n",
            " up_sampling2d (UpSampling2  (None, 64, 80, 512)          0         ['block4_conv3[0][0]']        \n",
            " D)                                                                                               \n",
            "                                                                                                  \n",
            " conv2d_29 (Conv2D)          (None, 128, 160, 128)        295040    ['up_sampling2d_4[0][0]']     \n",
            "                                                                                                  \n",
            " conv2d (Conv2D)             (None, 64, 80, 256)          524544    ['up_sampling2d[0][0]']       \n",
            "                                                                                                  \n",
            " batch_normalization_19 (Ba  (None, 128, 160, 128)        512       ['conv2d_29[0][0]']           \n",
            " tchNormalization)                                                                                \n",
            "                                                                                                  \n",
            " concatenate (Concatenate)   (None, 64, 80, 512)          0         ['block3_conv3[0][0]',        \n",
            "                                                                     'conv2d[0][0]']              \n",
            "                                                                                                  \n",
            " activation_13 (Activation)  (None, 128, 160, 128)        0         ['batch_normalization_19[0][0]\n",
            "                                                                    ']                            \n",
            "                                                                                                  \n",
            " conv2d_1 (Conv2D)           (None, 64, 80, 256)          1179904   ['concatenate[0][0]']         \n",
            "                                                                                                  \n",
            " conv2d_30 (Conv2D)          (None, 128, 160, 128)        147584    ['activation_13[0][0]']       \n",
            "                                                                                                  \n",
            " conv2d_28 (Conv2D)          (None, 128, 160, 128)        32896     ['up_sampling2d_4[0][0]']     \n",
            "                                                                                                  \n",
            " conv2d_2 (Conv2D)           (None, 64, 80, 256)          590080    ['conv2d_1[0][0]']            \n",
            "                                                                                                  \n",
            " batch_normalization_20 (Ba  (None, 128, 160, 128)        512       ['conv2d_30[0][0]']           \n",
            " tchNormalization)                                                                                \n",
            "                                                                                                  \n",
            " batch_normalization_18 (Ba  (None, 128, 160, 128)        512       ['conv2d_28[0][0]']           \n",
            " tchNormalization)                                                                                \n",
            "                                                                                                  \n",
            " up_sampling2d_1 (UpSamplin  (None, 128, 160, 256)        0         ['conv2d_2[0][0]']            \n",
            " g2D)                                                                                             \n",
            "                                                                                                  \n",
            " add_6 (Add)                 (None, 128, 160, 128)        0         ['batch_normalization_20[0][0]\n",
            "                                                                    ',                            \n",
            "                                                                     'batch_normalization_18[0][0]\n",
            "                                                                    ']                            \n",
            "                                                                                                  \n",
            " conv2d_3 (Conv2D)           (None, 128, 160, 128)        131200    ['up_sampling2d_1[0][0]']     \n",
            "                                                                                                  \n",
            " activation_14 (Activation)  (None, 128, 160, 128)        0         ['add_6[0][0]']               \n",
            "                                                                                                  \n",
            " concatenate_1 (Concatenate  (None, 128, 160, 256)        0         ['block2_conv2[0][0]',        \n",
            " )                                                                   'conv2d_3[0][0]']            \n",
            "                                                                                                  \n",
            " up_sampling2d_5 (UpSamplin  (None, 256, 320, 128)        0         ['activation_14[0][0]']       \n",
            " g2D)                                                                                             \n",
            "                                                                                                  \n",
            " conv2d_4 (Conv2D)           (None, 128, 160, 128)        295040    ['concatenate_1[0][0]']       \n",
            "                                                                                                  \n",
            " conv2d_32 (Conv2D)          (None, 256, 320, 64)         73792     ['up_sampling2d_5[0][0]']     \n",
            "                                                                                                  \n",
            " conv2d_5 (Conv2D)           (None, 128, 160, 128)        147584    ['conv2d_4[0][0]']            \n",
            "                                                                                                  \n",
            " batch_normalization_22 (Ba  (None, 256, 320, 64)         256       ['conv2d_32[0][0]']           \n",
            " tchNormalization)                                                                                \n",
            "                                                                                                  \n",
            " up_sampling2d_2 (UpSamplin  (None, 256, 320, 128)        0         ['conv2d_5[0][0]']            \n",
            " g2D)                                                                                             \n",
            "                                                                                                  \n",
            " activation_15 (Activation)  (None, 256, 320, 64)         0         ['batch_normalization_22[0][0]\n",
            "                                                                    ']                            \n",
            "                                                                                                  \n",
            " conv2d_6 (Conv2D)           (None, 256, 320, 64)         32832     ['up_sampling2d_2[0][0]']     \n",
            "                                                                                                  \n",
            " conv2d_33 (Conv2D)          (None, 256, 320, 64)         36928     ['activation_15[0][0]']       \n",
            "                                                                                                  \n",
            " conv2d_31 (Conv2D)          (None, 256, 320, 64)         8256      ['up_sampling2d_5[0][0]']     \n",
            "                                                                                                  \n",
            " concatenate_2 (Concatenate  (None, 256, 320, 128)        0         ['block1_conv2[0][0]',        \n",
            " )                                                                   'conv2d_6[0][0]']            \n",
            "                                                                                                  \n",
            " batch_normalization_23 (Ba  (None, 256, 320, 64)         256       ['conv2d_33[0][0]']           \n",
            " tchNormalization)                                                                                \n",
            "                                                                                                  \n",
            " batch_normalization_21 (Ba  (None, 256, 320, 64)         256       ['conv2d_31[0][0]']           \n",
            " tchNormalization)                                                                                \n",
            "                                                                                                  \n",
            " conv2d_7 (Conv2D)           (None, 256, 320, 64)         73792     ['concatenate_2[0][0]']       \n",
            "                                                                                                  \n",
            " add_7 (Add)                 (None, 256, 320, 64)         0         ['batch_normalization_23[0][0]\n",
            "                                                                    ',                            \n",
            "                                                                     'batch_normalization_21[0][0]\n",
            "                                                                    ']                            \n",
            "                                                                                                  \n",
            " conv2d_8 (Conv2D)           (None, 256, 320, 64)         36928     ['conv2d_7[0][0]']            \n",
            "                                                                                                  \n",
            " activation_16 (Activation)  (None, 256, 320, 64)         0         ['add_7[0][0]']               \n",
            "                                                                                                  \n",
            " conv2d_9 (Conv2D)           (None, 256, 320, 7)          4039      ['conv2d_8[0][0]']            \n",
            "                                                                                                  \n",
            " conv2d_34 (Conv2D)          (None, 256, 320, 7)          455       ['activation_16[0][0]']       \n",
            "                                                                                                  \n",
            " concatenate_3 (Concatenate  (None, 256, 320, 14)         0         ['conv2d_9[0][0]',            \n",
            " )                                                                   'conv2d_34[0][0]']           \n",
            "                                                                                                  \n",
            " conv2d_36 (Conv2D)          (None, 256, 320, 64)         8128      ['concatenate_3[0][0]']       \n",
            "                                                                                                  \n",
            " conv2d_37 (Conv2D)          (None, 256, 320, 64)         36928     ['conv2d_36[0][0]']           \n",
            "                                                                                                  \n",
            " conv2d_38 (Conv2D)          (None, 256, 320, 7)          4039      ['conv2d_37[0][0]']           \n",
            "                                                                                                  \n",
            "==================================================================================================\n",
            "Total params: 23060437 (87.97 MB)\n",
            "Trainable params: 15413653 (58.80 MB)\n",
            "Non-trainable params: 7646784 (29.17 MB)\n",
            "__________________________________________________________________________________________________\n"
          ]
        }
      ],
      "source": [
        "fused_model.summary()"
      ]
    },
    {
      "cell_type": "code",
      "execution_count": null,
      "metadata": {
        "id": "OChwq71y_pLm"
      },
      "outputs": [],
      "source": [
        "log_dir_linknet_vgg16 = os.path.join('linknet_vgg16_model')\n",
        "tensorboard_callback_linknet_vgg16 = tf.keras.callbacks.TensorBoard(log_dir=log_dir_linknet_vgg16)\n"
      ]
    },
    {
      "cell_type": "code",
      "execution_count": null,
      "metadata": {
        "id": "PsXrzzYxCdD2"
      },
      "outputs": [],
      "source": [
        "log_dir_1 = os.path.join('vgg_unet_model1')\n",
        "tensorboard_callback1 = tf.keras.callbacks.TensorBoard(log_dir=log_dir_1)\n"
      ]
    },
    {
      "cell_type": "code",
      "execution_count": null,
      "metadata": {
        "id": "PoY9agfbCqaz"
      },
      "outputs": [],
      "source": [
        "def create_fused_model():\n",
        "    # Define the desired convolutional layers from each model\n",
        "    vgg_unet_conv7 = vgg_unet_model1.get_layer('conv2d_9').output  # Assuming 'conv7' is the layer you want to fuse from U-Net with VGG16\n",
        "    linknet_vgg16_dec1 = linknet_vgg16_model.get_layer('conv2d_34').output  # Assuming 'conv1' is the layer you want to fuse from LinkNet with VGG16\n",
        "\n",
        "    # Concatenate the convolutional layers\n",
        "    fusion_layer = Concatenate()([vgg_unet_conv7, linknet_vgg16_dec1])\n",
        "\n",
        "    # Continue with further convolutional layers if needed\n",
        "    fusion_conv = Conv2D(64, 3, activation='relu', padding='same', kernel_initializer='glorot_normal')(fusion_layer)\n",
        "    fusion_conv = Conv2D(64, 3, activation='relu', padding='same', kernel_initializer='glorot_normal')(fusion_conv)\n",
        "\n",
        "    # Define the output layer\n",
        "    fusion_output = Conv2D(7, 3, activation='softmax', padding='same', kernel_initializer='glorot_normal')(fusion_conv)\n",
        "\n",
        "    # Define the fused model\n",
        "    fused_model = Model(inputs=[vgg_unet_model1.input, linknet_vgg16_model.input], outputs=fusion_output)\n",
        "\n",
        "    # Compile the fused model\n",
        "    fused_model.compile(optimizer=Adam(0.0001), loss='categorical_crossentropy', metrics=['accuracy', miou])\n",
        "\n",
        "    return fused_model"
      ]
    },
    {
      "cell_type": "code",
      "source": [
        "start_time = time.time()"
      ],
      "metadata": {
        "id": "pFTZlhw5MM4M"
      },
      "execution_count": null,
      "outputs": []
    },
    {
      "cell_type": "code",
      "execution_count": null,
      "metadata": {
        "id": "8cHRzFrpCtYd"
      },
      "outputs": [],
      "source": [
        "fused_model = create_fused_model()\n"
      ]
    },
    {
      "cell_type": "code",
      "source": [
        "end_time = time.time()"
      ],
      "metadata": {
        "id": "eFVWDnHvMRZg"
      },
      "execution_count": null,
      "outputs": []
    },
    {
      "cell_type": "code",
      "source": [
        "print(\"Fused model creation time:\", end_time - start_time, \"seconds\")\n"
      ],
      "metadata": {
        "colab": {
          "base_uri": "https://localhost:8080/"
        },
        "id": "QVAUUUzqMT8o",
        "outputId": "fa0ca00f-c36f-4533-fa99-16062025d530"
      },
      "execution_count": null,
      "outputs": [
        {
          "output_type": "stream",
          "name": "stdout",
          "text": [
            "Fused model creation time: 18.084850549697876 seconds\n"
          ]
        }
      ]
    },
    {
      "cell_type": "code",
      "execution_count": null,
      "metadata": {
        "colab": {
          "base_uri": "https://localhost:8080/"
        },
        "id": "k31Ty7p8C3tW",
        "outputId": "9693bf2b-2825-423e-cba1-13b9696e81d2"
      },
      "outputs": [
        {
          "name": "stdout",
          "output_type": "stream",
          "text": [
            "Model: \"model_2\"\n",
            "__________________________________________________________________________________________________\n",
            " Layer (type)                Output Shape                 Param #   Connected to                  \n",
            "==================================================================================================\n",
            " input_2 (InputLayer)        [(None, 256, 320, 3)]        0         []                            \n",
            "                                                                                                  \n",
            " encoder (Functional)        (None, 32, 40, 512)          4870080   ['input_2[0][0]']             \n",
            "                                                                                                  \n",
            " conv2d_23 (Conv2D)          (None, 32, 40, 512)          2359808   ['encoder[0][0]']             \n",
            "                                                                                                  \n",
            " batch_normalization_13 (Ba  (None, 32, 40, 512)          2048      ['conv2d_23[0][0]']           \n",
            " tchNormalization)                                                                                \n",
            "                                                                                                  \n",
            " input_1 (InputLayer)        [(None, 256, 320, 3)]        0         []                            \n",
            "                                                                                                  \n",
            " activation_9 (Activation)   (None, 32, 40, 512)          0         ['batch_normalization_13[0][0]\n",
            "                                                                    ']                            \n",
            "                                                                                                  \n",
            " block1_conv1 (Conv2D)       (None, 256, 320, 64)         1792      ['input_1[0][0]']             \n",
            "                                                                                                  \n",
            " conv2d_24 (Conv2D)          (None, 32, 40, 512)          2359808   ['activation_9[0][0]']        \n",
            "                                                                                                  \n",
            " conv2d_22 (Conv2D)          (None, 32, 40, 512)          262656    ['encoder[0][0]']             \n",
            "                                                                                                  \n",
            " block1_conv2 (Conv2D)       (None, 256, 320, 64)         36928     ['block1_conv1[0][0]']        \n",
            "                                                                                                  \n",
            " batch_normalization_14 (Ba  (None, 32, 40, 512)          2048      ['conv2d_24[0][0]']           \n",
            " tchNormalization)                                                                                \n",
            "                                                                                                  \n",
            " batch_normalization_12 (Ba  (None, 32, 40, 512)          2048      ['conv2d_22[0][0]']           \n",
            " tchNormalization)                                                                                \n",
            "                                                                                                  \n",
            " block1_pool (MaxPooling2D)  (None, 128, 160, 64)         0         ['block1_conv2[0][0]']        \n",
            "                                                                                                  \n",
            " add_4 (Add)                 (None, 32, 40, 512)          0         ['batch_normalization_14[0][0]\n",
            "                                                                    ',                            \n",
            "                                                                     'batch_normalization_12[0][0]\n",
            "                                                                    ']                            \n",
            "                                                                                                  \n",
            " block2_conv1 (Conv2D)       (None, 128, 160, 128)        73856     ['block1_pool[0][0]']         \n",
            "                                                                                                  \n",
            " activation_10 (Activation)  (None, 32, 40, 512)          0         ['add_4[0][0]']               \n",
            "                                                                                                  \n",
            " block2_conv2 (Conv2D)       (None, 128, 160, 128)        147584    ['block2_conv1[0][0]']        \n",
            "                                                                                                  \n",
            " up_sampling2d_3 (UpSamplin  (None, 64, 80, 512)          0         ['activation_10[0][0]']       \n",
            " g2D)                                                                                             \n",
            "                                                                                                  \n",
            " block2_pool (MaxPooling2D)  (None, 64, 80, 128)          0         ['block2_conv2[0][0]']        \n",
            "                                                                                                  \n",
            " conv2d_26 (Conv2D)          (None, 64, 80, 256)          1179904   ['up_sampling2d_3[0][0]']     \n",
            "                                                                                                  \n",
            " block3_conv1 (Conv2D)       (None, 64, 80, 256)          295168    ['block2_pool[0][0]']         \n",
            "                                                                                                  \n",
            " batch_normalization_16 (Ba  (None, 64, 80, 256)          1024      ['conv2d_26[0][0]']           \n",
            " tchNormalization)                                                                                \n",
            "                                                                                                  \n",
            " block3_conv2 (Conv2D)       (None, 64, 80, 256)          590080    ['block3_conv1[0][0]']        \n",
            "                                                                                                  \n",
            " activation_11 (Activation)  (None, 64, 80, 256)          0         ['batch_normalization_16[0][0]\n",
            "                                                                    ']                            \n",
            "                                                                                                  \n",
            " block3_conv3 (Conv2D)       (None, 64, 80, 256)          590080    ['block3_conv2[0][0]']        \n",
            "                                                                                                  \n",
            " conv2d_27 (Conv2D)          (None, 64, 80, 256)          590080    ['activation_11[0][0]']       \n",
            "                                                                                                  \n",
            " conv2d_25 (Conv2D)          (None, 64, 80, 256)          131328    ['up_sampling2d_3[0][0]']     \n",
            "                                                                                                  \n",
            " block3_pool (MaxPooling2D)  (None, 32, 40, 256)          0         ['block3_conv3[0][0]']        \n",
            "                                                                                                  \n",
            " batch_normalization_17 (Ba  (None, 64, 80, 256)          1024      ['conv2d_27[0][0]']           \n",
            " tchNormalization)                                                                                \n",
            "                                                                                                  \n",
            " batch_normalization_15 (Ba  (None, 64, 80, 256)          1024      ['conv2d_25[0][0]']           \n",
            " tchNormalization)                                                                                \n",
            "                                                                                                  \n",
            " block4_conv1 (Conv2D)       (None, 32, 40, 512)          1180160   ['block3_pool[0][0]']         \n",
            "                                                                                                  \n",
            " add_5 (Add)                 (None, 64, 80, 256)          0         ['batch_normalization_17[0][0]\n",
            "                                                                    ',                            \n",
            "                                                                     'batch_normalization_15[0][0]\n",
            "                                                                    ']                            \n",
            "                                                                                                  \n",
            " block4_conv2 (Conv2D)       (None, 32, 40, 512)          2359808   ['block4_conv1[0][0]']        \n",
            "                                                                                                  \n",
            " activation_12 (Activation)  (None, 64, 80, 256)          0         ['add_5[0][0]']               \n",
            "                                                                                                  \n",
            " block4_conv3 (Conv2D)       (None, 32, 40, 512)          2359808   ['block4_conv2[0][0]']        \n",
            "                                                                                                  \n",
            " up_sampling2d_4 (UpSamplin  (None, 128, 160, 256)        0         ['activation_12[0][0]']       \n",
            " g2D)                                                                                             \n",
            "                                                                                                  \n",
            " up_sampling2d (UpSampling2  (None, 64, 80, 512)          0         ['block4_conv3[0][0]']        \n",
            " D)                                                                                               \n",
            "                                                                                                  \n",
            " conv2d_29 (Conv2D)          (None, 128, 160, 128)        295040    ['up_sampling2d_4[0][0]']     \n",
            "                                                                                                  \n",
            " conv2d (Conv2D)             (None, 64, 80, 256)          524544    ['up_sampling2d[0][0]']       \n",
            "                                                                                                  \n",
            " batch_normalization_19 (Ba  (None, 128, 160, 128)        512       ['conv2d_29[0][0]']           \n",
            " tchNormalization)                                                                                \n",
            "                                                                                                  \n",
            " concatenate (Concatenate)   (None, 64, 80, 512)          0         ['block3_conv3[0][0]',        \n",
            "                                                                     'conv2d[0][0]']              \n",
            "                                                                                                  \n",
            " activation_13 (Activation)  (None, 128, 160, 128)        0         ['batch_normalization_19[0][0]\n",
            "                                                                    ']                            \n",
            "                                                                                                  \n",
            " conv2d_1 (Conv2D)           (None, 64, 80, 256)          1179904   ['concatenate[0][0]']         \n",
            "                                                                                                  \n",
            " conv2d_30 (Conv2D)          (None, 128, 160, 128)        147584    ['activation_13[0][0]']       \n",
            "                                                                                                  \n",
            " conv2d_28 (Conv2D)          (None, 128, 160, 128)        32896     ['up_sampling2d_4[0][0]']     \n",
            "                                                                                                  \n",
            " conv2d_2 (Conv2D)           (None, 64, 80, 256)          590080    ['conv2d_1[0][0]']            \n",
            "                                                                                                  \n",
            " batch_normalization_20 (Ba  (None, 128, 160, 128)        512       ['conv2d_30[0][0]']           \n",
            " tchNormalization)                                                                                \n",
            "                                                                                                  \n",
            " batch_normalization_18 (Ba  (None, 128, 160, 128)        512       ['conv2d_28[0][0]']           \n",
            " tchNormalization)                                                                                \n",
            "                                                                                                  \n",
            " up_sampling2d_1 (UpSamplin  (None, 128, 160, 256)        0         ['conv2d_2[0][0]']            \n",
            " g2D)                                                                                             \n",
            "                                                                                                  \n",
            " add_6 (Add)                 (None, 128, 160, 128)        0         ['batch_normalization_20[0][0]\n",
            "                                                                    ',                            \n",
            "                                                                     'batch_normalization_18[0][0]\n",
            "                                                                    ']                            \n",
            "                                                                                                  \n",
            " conv2d_3 (Conv2D)           (None, 128, 160, 128)        131200    ['up_sampling2d_1[0][0]']     \n",
            "                                                                                                  \n",
            " activation_14 (Activation)  (None, 128, 160, 128)        0         ['add_6[0][0]']               \n",
            "                                                                                                  \n",
            " concatenate_1 (Concatenate  (None, 128, 160, 256)        0         ['block2_conv2[0][0]',        \n",
            " )                                                                   'conv2d_3[0][0]']            \n",
            "                                                                                                  \n",
            " up_sampling2d_5 (UpSamplin  (None, 256, 320, 128)        0         ['activation_14[0][0]']       \n",
            " g2D)                                                                                             \n",
            "                                                                                                  \n",
            " conv2d_4 (Conv2D)           (None, 128, 160, 128)        295040    ['concatenate_1[0][0]']       \n",
            "                                                                                                  \n",
            " conv2d_32 (Conv2D)          (None, 256, 320, 64)         73792     ['up_sampling2d_5[0][0]']     \n",
            "                                                                                                  \n",
            " conv2d_5 (Conv2D)           (None, 128, 160, 128)        147584    ['conv2d_4[0][0]']            \n",
            "                                                                                                  \n",
            " batch_normalization_22 (Ba  (None, 256, 320, 64)         256       ['conv2d_32[0][0]']           \n",
            " tchNormalization)                                                                                \n",
            "                                                                                                  \n",
            " up_sampling2d_2 (UpSamplin  (None, 256, 320, 128)        0         ['conv2d_5[0][0]']            \n",
            " g2D)                                                                                             \n",
            "                                                                                                  \n",
            " activation_15 (Activation)  (None, 256, 320, 64)         0         ['batch_normalization_22[0][0]\n",
            "                                                                    ']                            \n",
            "                                                                                                  \n",
            " conv2d_6 (Conv2D)           (None, 256, 320, 64)         32832     ['up_sampling2d_2[0][0]']     \n",
            "                                                                                                  \n",
            " conv2d_33 (Conv2D)          (None, 256, 320, 64)         36928     ['activation_15[0][0]']       \n",
            "                                                                                                  \n",
            " conv2d_31 (Conv2D)          (None, 256, 320, 64)         8256      ['up_sampling2d_5[0][0]']     \n",
            "                                                                                                  \n",
            " concatenate_2 (Concatenate  (None, 256, 320, 128)        0         ['block1_conv2[0][0]',        \n",
            " )                                                                   'conv2d_6[0][0]']            \n",
            "                                                                                                  \n",
            " batch_normalization_23 (Ba  (None, 256, 320, 64)         256       ['conv2d_33[0][0]']           \n",
            " tchNormalization)                                                                                \n",
            "                                                                                                  \n",
            " batch_normalization_21 (Ba  (None, 256, 320, 64)         256       ['conv2d_31[0][0]']           \n",
            " tchNormalization)                                                                                \n",
            "                                                                                                  \n",
            " conv2d_7 (Conv2D)           (None, 256, 320, 64)         73792     ['concatenate_2[0][0]']       \n",
            "                                                                                                  \n",
            " add_7 (Add)                 (None, 256, 320, 64)         0         ['batch_normalization_23[0][0]\n",
            "                                                                    ',                            \n",
            "                                                                     'batch_normalization_21[0][0]\n",
            "                                                                    ']                            \n",
            "                                                                                                  \n",
            " conv2d_8 (Conv2D)           (None, 256, 320, 64)         36928     ['conv2d_7[0][0]']            \n",
            "                                                                                                  \n",
            " activation_16 (Activation)  (None, 256, 320, 64)         0         ['add_7[0][0]']               \n",
            "                                                                                                  \n",
            " conv2d_9 (Conv2D)           (None, 256, 320, 7)          4039      ['conv2d_8[0][0]']            \n",
            "                                                                                                  \n",
            " conv2d_34 (Conv2D)          (None, 256, 320, 7)          455       ['activation_16[0][0]']       \n",
            "                                                                                                  \n",
            " concatenate_4 (Concatenate  (None, 256, 320, 14)         0         ['conv2d_9[0][0]',            \n",
            " )                                                                   'conv2d_34[0][0]']           \n",
            "                                                                                                  \n",
            " conv2d_39 (Conv2D)          (None, 256, 320, 64)         8128      ['concatenate_4[0][0]']       \n",
            "                                                                                                  \n",
            " conv2d_40 (Conv2D)          (None, 256, 320, 64)         36928     ['conv2d_39[0][0]']           \n",
            "                                                                                                  \n",
            " conv2d_41 (Conv2D)          (None, 256, 320, 7)          4039      ['conv2d_40[0][0]']           \n",
            "                                                                                                  \n",
            "==================================================================================================\n",
            "Total params: 23060437 (87.97 MB)\n",
            "Trainable params: 15413653 (58.80 MB)\n",
            "Non-trainable params: 7646784 (29.17 MB)\n",
            "__________________________________________________________________________________________________\n"
          ]
        }
      ],
      "source": [
        "fused_model.summary()"
      ]
    },
    {
      "cell_type": "code",
      "execution_count": null,
      "metadata": {
        "colab": {
          "base_uri": "https://localhost:8080/"
        },
        "id": "8EhD_6-V_r-V",
        "outputId": "4d6706b9-b989-41ba-d8a9-78385094ebb9"
      },
      "outputs": [
        {
          "data": {
            "text/plain": [
              "69"
            ]
          },
          "execution_count": 71,
          "metadata": {},
          "output_type": "execute_result"
        }
      ],
      "source": [
        "x=np.array(X_train).shape[0]//15\n",
        "x"
      ]
    },
    {
      "cell_type": "code",
      "execution_count": null,
      "metadata": {
        "id": "oziVoNV6LqhO"
      },
      "outputs": [],
      "source": [
        "import time"
      ]
    },
    {
      "cell_type": "code",
      "source": [
        "start_time = time.time()"
      ],
      "metadata": {
        "id": "_uXTN49cMEj4"
      },
      "execution_count": null,
      "outputs": []
    },
    {
      "cell_type": "code",
      "execution_count": null,
      "metadata": {
        "colab": {
          "base_uri": "https://localhost:8080/"
        },
        "id": "0uq6F02nDB9-",
        "outputId": "ae854a46-78ec-491d-a065-6d73c2678adc"
      },
      "outputs": [
        {
          "output_type": "stream",
          "name": "stdout",
          "text": [
            "Epoch 1/20\n",
            "13/69 [====>.........................] - ETA: 49:31 - loss: 1.4160 - accuracy: 0.4993 - miou: 0.2075 - specificity: 0.9938 - sensitivity: 0.2572 - f1_score_metric: 0.7513"
          ]
        }
      ],
      "source": [
        "history_fused = fused_model.fit([X_train, X_train], y_train, steps_per_epoch=x, epochs=20, verbose=1, validation_data=([X_val, X_val], y_val), callbacks=[tensorboard_callback1, tensorboard_callback_linknet_vgg16])\n"
      ]
    },
    {
      "cell_type": "code",
      "source": [
        "end_time = time.time()"
      ],
      "metadata": {
        "id": "sw1GN_j3QdQT"
      },
      "execution_count": null,
      "outputs": []
    },
    {
      "cell_type": "code",
      "source": [
        "print(\"Training time:\", end_time - start_time, \"seconds\")"
      ],
      "metadata": {
        "id": "NTsZax3OQfkm"
      },
      "execution_count": null,
      "outputs": []
    }
  ],
  "metadata": {
    "colab": {
      "machine_shape": "hm",
      "toc_visible": true,
      "provenance": []
    },
    "kernelspec": {
      "display_name": "Python 3",
      "name": "python3"
    },
    "language_info": {
      "codemirror_mode": {
        "name": "ipython",
        "version": 3
      },
      "file_extension": ".py",
      "mimetype": "text/x-python",
      "name": "python",
      "nbconvert_exporter": "python",
      "pygments_lexer": "ipython3",
      "version": "3.10.2"
    }
  },
  "nbformat": 4,
  "nbformat_minor": 0
}
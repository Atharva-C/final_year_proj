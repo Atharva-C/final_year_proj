{
  "cells": [
    {
      "cell_type": "code",
      "execution_count": null,
      "metadata": {
        "id": "RXwy3ESWo2WO"
      },
      "outputs": [],
      "source": [
        "import cv2, os, random\n",
        "import numpy as np\n",
        "import shutil\n",
        "import pandas as pd\n",
        "import matplotlib.pyplot as plt"
      ]
    },
    {
      "cell_type": "code",
      "execution_count": null,
      "metadata": {
        "colab": {
          "base_uri": "https://localhost:8080/"
        },
        "id": "iX5q2VuSo4mo",
        "outputId": "655358fe-eabb-430d-c586-95263de32d13"
      },
      "outputs": [
        {
          "name": "stdout",
          "output_type": "stream",
          "text": [
            "Mounted at /content/drive\n"
          ]
        }
      ],
      "source": [
        "from google.colab import drive\n",
        "drive.mount('/content/drive')"
      ]
    },
    {
      "cell_type": "code",
      "execution_count": null,
      "metadata": {
        "id": "uf57JF-oo6fZ"
      },
      "outputs": [],
      "source": [
        "import tensorflow as tf\n",
        "from tensorflow import keras\n",
        "from tensorflow.keras.models import Sequential,Model\n",
        "from tensorflow.keras.layers import Dense, Dropout, Flatten,concatenate,Input,LSTM, Reshape,Permute\n",
        "from tensorflow.keras.layers import Conv2D, MaxPooling2D,Conv1D\n",
        "from tensorflow.keras import backend as K\n",
        "from tensorflow.keras.layers import BatchNormalization\n",
        "\n",
        "\n",
        "from numpy import asarray\n",
        "from numpy import zeros\n",
        "from tensorflow.keras.preprocessing.text import Tokenizer\n",
        "from tensorflow.keras.preprocessing.sequence import pad_sequences\n",
        "from tensorflow.keras.models import Sequential\n",
        "from tensorflow.keras.layers import Dense\n",
        "from tensorflow.keras.layers import Flatten\n",
        "from tensorflow.keras.layers import Embedding\n",
        "from tensorflow.keras.initializers import he_normal\n",
        "from time import time\n",
        "from tensorflow.keras.callbacks import TensorBoard\n",
        "\n",
        "from tensorflow.keras.models import *\n",
        "from tensorflow.keras.layers import *\n",
        "from tensorflow.keras.optimizers import *\n",
        "from tensorflow.keras.callbacks import ModelCheckpoint, LearningRateScheduler\n",
        "from tensorflow.keras import backend as K"
      ]
    },
    {
      "cell_type": "code",
      "execution_count": null,
      "metadata": {
        "id": "-6IwU5I8o8qb"
      },
      "outputs": [],
      "source": [
        "data = '/content/drive/MyDrive/Major_Project/Shrutee/idd20k_lite/'\n",
        "\n",
        "img_train = data + 'leftImg8bit/train/'\n",
        "seg_train = data + 'gtFine/train/'\n",
        "\n",
        "img_val = data + 'leftImg8bit/val/'\n",
        "seg_val = data + 'gtFine/val/'\n",
        "\n",
        "img_test = data + 'leftImg8bit/test/'"
      ]
    },
    {
      "cell_type": "code",
      "execution_count": null,
      "metadata": {
        "id": "nYy9_IkMo-cE"
      },
      "outputs": [],
      "source": [
        "img_train_files = sorted(os.listdir(img_train))\n",
        "seg_train_files = sorted(os.listdir(seg_train))\n",
        "img_val_files = sorted(os.listdir(img_val))\n",
        "seg_val_files = sorted(os.listdir(seg_val))\n",
        "img_test_files = sorted(os.listdir(img_test))"
      ]
    },
    {
      "cell_type": "code",
      "execution_count": null,
      "metadata": {
        "id": "OxrTQcjSpAGe"
      },
      "outputs": [],
      "source": [
        "data = '/content/drive/MyDrive/Major_Project/Shrutee/idd20k_lite/'\n",
        "\n",
        "img_train = data + 'leftImg8bit/train/'\n",
        "seg_train = data + 'gtFine/train/'\n",
        "\n",
        "img_test = data + 'leftImg8bit/val/'\n",
        "seg_test = data + 'gtFine/val/'"
      ]
    },
    {
      "cell_type": "code",
      "execution_count": null,
      "metadata": {
        "id": "ZONwJ8u5pBx_"
      },
      "outputs": [],
      "source": [
        "img_train_files = sorted(os.listdir(img_train))\n",
        "seg_train_files = sorted(os.listdir(seg_train))\n",
        "img_test_files = sorted(os.listdir(img_test))\n",
        "seg_test_files = sorted(os.listdir(seg_test))"
      ]
    },
    {
      "cell_type": "code",
      "execution_count": null,
      "metadata": {
        "id": "omzBb_1VpD3h"
      },
      "outputs": [],
      "source": [
        "train_img = os.listdir(img_train)\n",
        "train_img.sort()\n",
        "train_seg = os.listdir(seg_train)\n",
        "train_seg.sort()\n",
        "\n",
        "test_img = os.listdir(img_test)\n",
        "test_img.sort()\n",
        "test_seg = os.listdir(seg_test)\n",
        "test_seg.sort()"
      ]
    },
    {
      "cell_type": "code",
      "execution_count": null,
      "metadata": {
        "id": "zW5wWwfPpH1U"
      },
      "outputs": [],
      "source": [
        "# separating semantic and instance segmentation labels\n",
        "train_seg_label=[]\n",
        "train_inst_seg=[]\n",
        "for i in range(1,len(train_seg)):\n",
        "    if(i%2 !=0):\n",
        "        train_seg_label.append(train_seg[i])\n",
        "    else:\n",
        "        train_inst_seg.append(train_seg[i])\n",
        "\n",
        "test_seg_label=[]\n",
        "test_inst_seg=[]\n",
        "for i in range(len(test_seg)):\n",
        "    if(i%2 !=0):\n",
        "        test_seg_label.append(test_seg[i])\n",
        "    else:\n",
        "        test_inst_seg.append(test_seg[i])"
      ]
    },
    {
      "cell_type": "code",
      "execution_count": null,
      "metadata": {
        "id": "Vc_aYgnGpQA2"
      },
      "outputs": [],
      "source": [
        "from sklearn.model_selection import train_test_split\n",
        "\n",
        "X_tr,X_cr, y_tr, y_cr = train_test_split(train_img, train_seg_label, test_size=0.25, random_state=15)"
      ]
    },
    {
      "cell_type": "code",
      "execution_count": null,
      "metadata": {
        "id": "KZ64k_HypRau"
      },
      "outputs": [],
      "source": [
        "# Resizing image height to 256 beacuse to send as image as inout to uNET model the height and width of the image should\n",
        "# multiples of 32\n",
        "height=256\n",
        "width=320\n",
        "n_classes=7\n",
        "def prepare_image_data(path,data):\n",
        "    src=path+data\n",
        "    img = cv2.imread(src)\n",
        "    img=cv2.resize(img,(width,height))\n",
        "    img = np.float32(img)  / 255          #normalization\n",
        "    return img\n",
        "\n",
        "# https://github.com/advaitsave/Multiclass-Semantic-Segmentation-CamVid/blob/master/Multiclass%20Semantic%20Segmentation%20using%20U-Net.ipynb\n",
        "def prepare_label_data(path,data):\n",
        "    label = np.zeros((height, width, n_classes))\n",
        "    src=path+data\n",
        "    img = cv2.imread(src)\n",
        "    img=cv2.resize(img,(width,height))\n",
        "    img1=img[:,:,0]\n",
        "    for i in range(n_classes):\n",
        "        label[:,:,i] = (img1==i).astype(int)\n",
        "    return label\n"
      ]
    },
    {
      "cell_type": "code",
      "execution_count": null,
      "metadata": {
        "id": "FopQZtDIpS8A"
      },
      "outputs": [],
      "source": [
        "X_train, y_train, X_val, y_val, X_test, y_test = [], [], [], [], [], []"
      ]
    },
    {
      "cell_type": "code",
      "execution_count": null,
      "metadata": {
        "id": "zDEF02eppUZC"
      },
      "outputs": [],
      "source": [
        "for i in range(len(X_tr)):\n",
        "    X_train.append(prepare_image_data(img_train,X_tr[i]))\n",
        "\n",
        "for i in range(len(y_tr)):\n",
        "    y_train.append(prepare_label_data(seg_train,y_tr[i]))\n",
        "\n",
        "for i in range(len(X_cr)):\n",
        "    X_val.append(prepare_image_data(img_train,X_cr[i]))\n",
        "\n",
        "for i in range(len(y_cr)):\n",
        "    y_val.append(prepare_label_data(seg_train,y_cr[i]))"
      ]
    },
    {
      "cell_type": "code",
      "execution_count": null,
      "metadata": {
        "id": "xPrhyXP9pVz1"
      },
      "outputs": [],
      "source": [
        "X_train=np.array(X_train)\n",
        "y_train=np.array(y_train)\n",
        "X_val=np.array(X_val)\n",
        "y_val=np.array(y_val)"
      ]
    },
    {
      "cell_type": "code",
      "execution_count": null,
      "metadata": {
        "id": "2bw6GqZzpXjZ"
      },
      "outputs": [],
      "source": [
        "tf.keras.backend.clear_session()"
      ]
    },
    {
      "cell_type": "code",
      "execution_count": null,
      "metadata": {
        "id": "8JV2x5ADpY8q"
      },
      "outputs": [],
      "source": [
        "import random as rn\n",
        "np.random.seed(24)\n",
        "tf.random.set_seed(28)\n",
        "rn.seed(12)"
      ]
    },
    {
      "cell_type": "code",
      "execution_count": null,
      "metadata": {
        "id": "NK7zKcwOparH"
      },
      "outputs": [],
      "source": [
        "def IoU(y_val, y_pred):\n",
        "    class_iou = []\n",
        "    n_classes = 7\n",
        "\n",
        "    y_predi = np.argmax(y_pred, axis=3)\n",
        "    y_truei = np.argmax(y_val, axis=3)\n",
        "\n",
        "    for c in range(n_classes):\n",
        "        TP = np.sum((y_truei == c) & (y_predi == c))\n",
        "        FP = np.sum((y_truei != c) & (y_predi == c))\n",
        "        FN = np.sum((y_truei == c) & (y_predi != c))\n",
        "        IoU = TP / float(TP + FP + FN)\n",
        "        if(float(TP + FP + FN) == 0):\n",
        "          IoU=TP/0.001\n",
        "        class_iou.append(IoU)\n",
        "    MIoU=sum(class_iou)/n_classes\n",
        "    return MIoU"
      ]
    },
    {
      "cell_type": "code",
      "execution_count": null,
      "metadata": {
        "id": "8T_cp15CpcQI"
      },
      "outputs": [],
      "source": [
        "def miou( y_true, y_pred ) :\n",
        "    score = tf.py_function( lambda y_true, y_pred : IoU( y_true, y_pred).astype('float32'),\n",
        "                        [y_true, y_pred],\n",
        "                        'float32')\n",
        "    return score"
      ]
    },
    {
      "cell_type": "code",
      "execution_count": null,
      "metadata": {
        "id": "ZmDntjR_pd2Y"
      },
      "outputs": [],
      "source": [
        "from tensorflow.keras.layers import Concatenate, Conv2D, UpSampling2D\n",
        "from tensorflow.keras.models import Model\n",
        "from tensorflow.keras.optimizers import Adam\n",
        "import tensorflow as tf\n",
        "import os"
      ]
    },
    {
      "cell_type": "code",
      "execution_count": null,
      "metadata": {
        "colab": {
          "base_uri": "https://localhost:8080/"
        },
        "id": "BegHD-y8pfOE",
        "outputId": "7dd8f767-162c-4b41-9798-7d921e8387b3"
      },
      "outputs": [
        {
          "name": "stdout",
          "output_type": "stream",
          "text": [
            "Downloading data from https://storage.googleapis.com/tensorflow/keras-applications/vgg16/vgg16_weights_tf_dim_ordering_tf_kernels_notop.h5\n",
            "58889256/58889256 [==============================] - 3s 0us/step\n"
          ]
        }
      ],
      "source": [
        "from tensorflow.keras.applications.vgg16 import VGG16\n",
        "encoder_vgg16 = VGG16(input_shape =  (256, 320,3), include_top = False, weights = 'imagenet')\n",
        "encoder_vgg16.trainable = False"
      ]
    },
    {
      "cell_type": "code",
      "execution_count": null,
      "metadata": {
        "id": "Pq9QXUeRpjM-"
      },
      "outputs": [],
      "source": [
        "for l in encoder_vgg16.layers:\n",
        "    l.trainable = False"
      ]
    },
    {
      "cell_type": "code",
      "execution_count": null,
      "metadata": {
        "id": "01Q4hYHZpkSk"
      },
      "outputs": [],
      "source": [
        "conv1 = encoder_vgg16.get_layer(\"block1_conv2\").output\n",
        "conv2 = encoder_vgg16.get_layer(\"block2_conv2\").output\n",
        "conv3 = encoder_vgg16.get_layer(\"block3_conv3\").output\n",
        "conv4 = encoder_vgg16.get_layer(\"block4_conv3\").output\n",
        "\n",
        "def vgg_unet1():\n",
        "\n",
        "    up5 = Conv2D(256, 2, activation = 'relu', padding = 'same',\n",
        "                   kernel_initializer = keras.initializers.glorot_normal(seed=58))(UpSampling2D(size = (2,2))(conv4))\n",
        "    merge5 = concatenate([conv3,up5], axis = 3)\n",
        "    conv5 = Conv2D(256, 3, activation = 'relu', padding = 'same',\n",
        "                   kernel_initializer = keras.initializers.glorot_normal(seed=58))(merge5)\n",
        "    conv5 = Conv2D(256, 3, activation = 'relu', padding = 'same',\n",
        "                   kernel_initializer = keras.initializers.glorot_normal(seed=58))(conv5)\n",
        "\n",
        "    up6 = Conv2D(128, 2, activation = 'relu', padding = 'same',\n",
        "                 kernel_initializer = keras.initializers.glorot_normal(seed=58))(UpSampling2D(size = (2,2))(conv5))\n",
        "    merge6 = concatenate([conv2,up6], axis = 3)\n",
        "    conv6 = Conv2D(128, 3, activation = 'relu', padding = 'same',\n",
        "                   kernel_initializer = keras.initializers.glorot_normal(seed=58))(merge6)\n",
        "    conv6 = Conv2D(128, 3, activation = 'relu', padding = 'same',\n",
        "                   kernel_initializer = keras.initializers.glorot_normal(seed=58))(conv6)\n",
        "\n",
        "    up7 = Conv2D(64, 2, activation = 'relu', padding = 'same',\n",
        "                 kernel_initializer = keras.initializers.glorot_normal(seed=58))(UpSampling2D(size = (2,2))(conv6))\n",
        "    merge7 = concatenate([conv1,up7], axis = 3)\n",
        "    conv7 = Conv2D(64, 3, activation = 'relu', padding = 'same',\n",
        "                   kernel_initializer = keras.initializers.glorot_normal(seed=58))(merge7)\n",
        "    conv7 = Conv2D(64, 3, activation = 'relu', padding = 'same',\n",
        "                   kernel_initializer = keras.initializers.glorot_normal(seed=58))(conv7)\n",
        "\n",
        "    conv8 = Conv2D(7, 3, activation = 'relu', padding = 'same',\n",
        "                   kernel_initializer = keras.initializers.glorot_normal(seed=58))(conv7)\n",
        "    out = (Activation('softmax'))(conv8)\n",
        "\n",
        "    model = Model(encoder_vgg16.input,out)\n",
        "\n",
        "    return model"
      ]
    },
    {
      "cell_type": "code",
      "execution_count": null,
      "metadata": {
        "colab": {
          "base_uri": "https://localhost:8080/"
        },
        "id": "uA1WEElLplxG",
        "outputId": "c4f4cc77-c8ca-4244-b7a0-470fcdd484b6"
      },
      "outputs": [
        {
          "name": "stdout",
          "output_type": "stream",
          "text": [
            "Model: \"model\"\n",
            "__________________________________________________________________________________________________\n",
            " Layer (type)                Output Shape                 Param #   Connected to                  \n",
            "==================================================================================================\n",
            " input_1 (InputLayer)        [(None, 256, 320, 3)]        0         []                            \n",
            "                                                                                                  \n",
            " block1_conv1 (Conv2D)       (None, 256, 320, 64)         1792      ['input_1[0][0]']             \n",
            "                                                                                                  \n",
            " block1_conv2 (Conv2D)       (None, 256, 320, 64)         36928     ['block1_conv1[0][0]']        \n",
            "                                                                                                  \n",
            " block1_pool (MaxPooling2D)  (None, 128, 160, 64)         0         ['block1_conv2[0][0]']        \n",
            "                                                                                                  \n",
            " block2_conv1 (Conv2D)       (None, 128, 160, 128)        73856     ['block1_pool[0][0]']         \n",
            "                                                                                                  \n",
            " block2_conv2 (Conv2D)       (None, 128, 160, 128)        147584    ['block2_conv1[0][0]']        \n",
            "                                                                                                  \n",
            " block2_pool (MaxPooling2D)  (None, 64, 80, 128)          0         ['block2_conv2[0][0]']        \n",
            "                                                                                                  \n",
            " block3_conv1 (Conv2D)       (None, 64, 80, 256)          295168    ['block2_pool[0][0]']         \n",
            "                                                                                                  \n",
            " block3_conv2 (Conv2D)       (None, 64, 80, 256)          590080    ['block3_conv1[0][0]']        \n",
            "                                                                                                  \n",
            " block3_conv3 (Conv2D)       (None, 64, 80, 256)          590080    ['block3_conv2[0][0]']        \n",
            "                                                                                                  \n",
            " block3_pool (MaxPooling2D)  (None, 32, 40, 256)          0         ['block3_conv3[0][0]']        \n",
            "                                                                                                  \n",
            " block4_conv1 (Conv2D)       (None, 32, 40, 512)          1180160   ['block3_pool[0][0]']         \n",
            "                                                                                                  \n",
            " block4_conv2 (Conv2D)       (None, 32, 40, 512)          2359808   ['block4_conv1[0][0]']        \n",
            "                                                                                                  \n",
            " block4_conv3 (Conv2D)       (None, 32, 40, 512)          2359808   ['block4_conv2[0][0]']        \n",
            "                                                                                                  \n",
            " up_sampling2d (UpSampling2  (None, 64, 80, 512)          0         ['block4_conv3[0][0]']        \n",
            " D)                                                                                               \n",
            "                                                                                                  \n",
            " conv2d (Conv2D)             (None, 64, 80, 256)          524544    ['up_sampling2d[0][0]']       \n",
            "                                                                                                  \n",
            " concatenate (Concatenate)   (None, 64, 80, 512)          0         ['block3_conv3[0][0]',        \n",
            "                                                                     'conv2d[0][0]']              \n",
            "                                                                                                  \n",
            " conv2d_1 (Conv2D)           (None, 64, 80, 256)          1179904   ['concatenate[0][0]']         \n",
            "                                                                                                  \n",
            " conv2d_2 (Conv2D)           (None, 64, 80, 256)          590080    ['conv2d_1[0][0]']            \n",
            "                                                                                                  \n",
            " up_sampling2d_1 (UpSamplin  (None, 128, 160, 256)        0         ['conv2d_2[0][0]']            \n",
            " g2D)                                                                                             \n",
            "                                                                                                  \n",
            " conv2d_3 (Conv2D)           (None, 128, 160, 128)        131200    ['up_sampling2d_1[0][0]']     \n",
            "                                                                                                  \n",
            " concatenate_1 (Concatenate  (None, 128, 160, 256)        0         ['block2_conv2[0][0]',        \n",
            " )                                                                   'conv2d_3[0][0]']            \n",
            "                                                                                                  \n",
            " conv2d_4 (Conv2D)           (None, 128, 160, 128)        295040    ['concatenate_1[0][0]']       \n",
            "                                                                                                  \n",
            " conv2d_5 (Conv2D)           (None, 128, 160, 128)        147584    ['conv2d_4[0][0]']            \n",
            "                                                                                                  \n",
            " up_sampling2d_2 (UpSamplin  (None, 256, 320, 128)        0         ['conv2d_5[0][0]']            \n",
            " g2D)                                                                                             \n",
            "                                                                                                  \n",
            " conv2d_6 (Conv2D)           (None, 256, 320, 64)         32832     ['up_sampling2d_2[0][0]']     \n",
            "                                                                                                  \n",
            " concatenate_2 (Concatenate  (None, 256, 320, 128)        0         ['block1_conv2[0][0]',        \n",
            " )                                                                   'conv2d_6[0][0]']            \n",
            "                                                                                                  \n",
            " conv2d_7 (Conv2D)           (None, 256, 320, 64)         73792     ['concatenate_2[0][0]']       \n",
            "                                                                                                  \n",
            " conv2d_8 (Conv2D)           (None, 256, 320, 64)         36928     ['conv2d_7[0][0]']            \n",
            "                                                                                                  \n",
            " conv2d_9 (Conv2D)           (None, 256, 320, 7)          4039      ['conv2d_8[0][0]']            \n",
            "                                                                                                  \n",
            " activation (Activation)     (None, 256, 320, 7)          0         ['conv2d_9[0][0]']            \n",
            "                                                                                                  \n",
            "==================================================================================================\n",
            "Total params: 10651207 (40.63 MB)\n",
            "Trainable params: 3015943 (11.50 MB)\n",
            "Non-trainable params: 7635264 (29.13 MB)\n",
            "__________________________________________________________________________________________________\n"
          ]
        }
      ],
      "source": [
        "vgg_unet_model1 = vgg_unet1()\n",
        "vgg_unet_model1.summary()"
      ]
    },
    {
      "cell_type": "code",
      "execution_count": null,
      "metadata": {
        "id": "yKK9zg1Ipm7j"
      },
      "outputs": [],
      "source": [
        "def linknet_vgg16(input_shape=(256, 320, 3), num_classes=7):\n",
        "    inputs = Input(shape=input_shape)\n",
        "\n",
        "    encoder = linknet_encoder(input_shape)\n",
        "    encoded = encoder(inputs)\n",
        "\n",
        "    decoder = linknet_decoder(encoded)\n",
        "\n",
        "    x = Conv2D(num_classes, (1, 1), activation='softmax', padding='same', kernel_initializer='he_normal')(decoder)\n",
        "\n",
        "    model = Model(inputs, x, name='linknet')\n",
        "\n",
        "    return model\n"
      ]
    },
    {
      "cell_type": "code",
      "execution_count": null,
      "metadata": {
        "id": "KrdWST5ipoG7"
      },
      "outputs": [],
      "source": [
        "def linknet_encoder(input_shape):\n",
        "    inputs = Input(shape=input_shape)\n",
        "\n",
        "    # Encoder\n",
        "    enc1 = linknet_block(inputs, 64, conv_shortcut=True)\n",
        "    enc2 = linknet_block(enc1, 128, strides=(2, 2), conv_shortcut=True)\n",
        "    enc3 = linknet_block(enc2, 256, strides=(2, 2), conv_shortcut=True)\n",
        "    enc4 = linknet_block(enc3, 512, strides=(2, 2), conv_shortcut=True)\n",
        "\n",
        "    return Model(inputs, enc4, name='encoder')"
      ]
    },
    {
      "cell_type": "code",
      "execution_count": null,
      "metadata": {
        "id": "sI9OEbkjppV0"
      },
      "outputs": [],
      "source": [
        "def linknet_block(x, filters, kernel_size=(3, 3), strides=(1, 1), conv_shortcut=False):\n",
        "    if conv_shortcut:\n",
        "        shortcut = Conv2D(filters, (1, 1), strides=strides, padding='same', kernel_initializer='he_normal')(x)\n",
        "        shortcut = BatchNormalization()(shortcut)\n",
        "    else:\n",
        "        shortcut = x\n",
        "\n",
        "    x = Conv2D(filters, kernel_size, strides=strides, padding='same', kernel_initializer='he_normal')(x)\n",
        "    x = BatchNormalization()(x)\n",
        "    x = Activation('relu')(x)\n",
        "\n",
        "    x = Conv2D(filters, kernel_size, padding='same', kernel_initializer='he_normal')(x)\n",
        "    x = BatchNormalization()(x)\n",
        "\n",
        "    x = Add()([x, shortcut])\n",
        "    x = Activation('relu')(x)\n",
        "\n",
        "    return x"
      ]
    },
    {
      "cell_type": "code",
      "execution_count": null,
      "metadata": {
        "id": "7yHSt8W7pqfy"
      },
      "outputs": [],
      "source": [
        "def linknet_decoder(encoded):\n",
        "    # Decoder\n",
        "    dec4 = linknet_block(encoded, 512, conv_shortcut=True)\n",
        "    dec3 = linknet_block(UpSampling2D(size=(2, 2))(dec4), 256, conv_shortcut=True)\n",
        "    dec2 = linknet_block(UpSampling2D(size=(2, 2))(dec3), 128, conv_shortcut=True)\n",
        "    dec1 = linknet_block(UpSampling2D(size=(2, 2))(dec2), 64, conv_shortcut=True)\n",
        "\n",
        "    return dec1"
      ]
    },
    {
      "cell_type": "code",
      "execution_count": null,
      "metadata": {
        "colab": {
          "base_uri": "https://localhost:8080/"
        },
        "id": "axcVF7Khprlx",
        "outputId": "a013a59e-080e-4304-fdee-f09d4ab2e6e8"
      },
      "outputs": [
        {
          "name": "stdout",
          "output_type": "stream",
          "text": [
            "Model: \"linknet\"\n",
            "__________________________________________________________________________________________________\n",
            " Layer (type)                Output Shape                 Param #   Connected to                  \n",
            "==================================================================================================\n",
            " input_2 (InputLayer)        [(None, 256, 320, 3)]        0         []                            \n",
            "                                                                                                  \n",
            " encoder (Functional)        (None, 32, 40, 512)          4870080   ['input_2[0][0]']             \n",
            "                                                                                                  \n",
            " conv2d_23 (Conv2D)          (None, 32, 40, 512)          2359808   ['encoder[0][0]']             \n",
            "                                                                                                  \n",
            " batch_normalization_13 (Ba  (None, 32, 40, 512)          2048      ['conv2d_23[0][0]']           \n",
            " tchNormalization)                                                                                \n",
            "                                                                                                  \n",
            " activation_9 (Activation)   (None, 32, 40, 512)          0         ['batch_normalization_13[0][0]\n",
            "                                                                    ']                            \n",
            "                                                                                                  \n",
            " conv2d_24 (Conv2D)          (None, 32, 40, 512)          2359808   ['activation_9[0][0]']        \n",
            "                                                                                                  \n",
            " conv2d_22 (Conv2D)          (None, 32, 40, 512)          262656    ['encoder[0][0]']             \n",
            "                                                                                                  \n",
            " batch_normalization_14 (Ba  (None, 32, 40, 512)          2048      ['conv2d_24[0][0]']           \n",
            " tchNormalization)                                                                                \n",
            "                                                                                                  \n",
            " batch_normalization_12 (Ba  (None, 32, 40, 512)          2048      ['conv2d_22[0][0]']           \n",
            " tchNormalization)                                                                                \n",
            "                                                                                                  \n",
            " add_4 (Add)                 (None, 32, 40, 512)          0         ['batch_normalization_14[0][0]\n",
            "                                                                    ',                            \n",
            "                                                                     'batch_normalization_12[0][0]\n",
            "                                                                    ']                            \n",
            "                                                                                                  \n",
            " activation_10 (Activation)  (None, 32, 40, 512)          0         ['add_4[0][0]']               \n",
            "                                                                                                  \n",
            " up_sampling2d_3 (UpSamplin  (None, 64, 80, 512)          0         ['activation_10[0][0]']       \n",
            " g2D)                                                                                             \n",
            "                                                                                                  \n",
            " conv2d_26 (Conv2D)          (None, 64, 80, 256)          1179904   ['up_sampling2d_3[0][0]']     \n",
            "                                                                                                  \n",
            " batch_normalization_16 (Ba  (None, 64, 80, 256)          1024      ['conv2d_26[0][0]']           \n",
            " tchNormalization)                                                                                \n",
            "                                                                                                  \n",
            " activation_11 (Activation)  (None, 64, 80, 256)          0         ['batch_normalization_16[0][0]\n",
            "                                                                    ']                            \n",
            "                                                                                                  \n",
            " conv2d_27 (Conv2D)          (None, 64, 80, 256)          590080    ['activation_11[0][0]']       \n",
            "                                                                                                  \n",
            " conv2d_25 (Conv2D)          (None, 64, 80, 256)          131328    ['up_sampling2d_3[0][0]']     \n",
            "                                                                                                  \n",
            " batch_normalization_17 (Ba  (None, 64, 80, 256)          1024      ['conv2d_27[0][0]']           \n",
            " tchNormalization)                                                                                \n",
            "                                                                                                  \n",
            " batch_normalization_15 (Ba  (None, 64, 80, 256)          1024      ['conv2d_25[0][0]']           \n",
            " tchNormalization)                                                                                \n",
            "                                                                                                  \n",
            " add_5 (Add)                 (None, 64, 80, 256)          0         ['batch_normalization_17[0][0]\n",
            "                                                                    ',                            \n",
            "                                                                     'batch_normalization_15[0][0]\n",
            "                                                                    ']                            \n",
            "                                                                                                  \n",
            " activation_12 (Activation)  (None, 64, 80, 256)          0         ['add_5[0][0]']               \n",
            "                                                                                                  \n",
            " up_sampling2d_4 (UpSamplin  (None, 128, 160, 256)        0         ['activation_12[0][0]']       \n",
            " g2D)                                                                                             \n",
            "                                                                                                  \n",
            " conv2d_29 (Conv2D)          (None, 128, 160, 128)        295040    ['up_sampling2d_4[0][0]']     \n",
            "                                                                                                  \n",
            " batch_normalization_19 (Ba  (None, 128, 160, 128)        512       ['conv2d_29[0][0]']           \n",
            " tchNormalization)                                                                                \n",
            "                                                                                                  \n",
            " activation_13 (Activation)  (None, 128, 160, 128)        0         ['batch_normalization_19[0][0]\n",
            "                                                                    ']                            \n",
            "                                                                                                  \n",
            " conv2d_30 (Conv2D)          (None, 128, 160, 128)        147584    ['activation_13[0][0]']       \n",
            "                                                                                                  \n",
            " conv2d_28 (Conv2D)          (None, 128, 160, 128)        32896     ['up_sampling2d_4[0][0]']     \n",
            "                                                                                                  \n",
            " batch_normalization_20 (Ba  (None, 128, 160, 128)        512       ['conv2d_30[0][0]']           \n",
            " tchNormalization)                                                                                \n",
            "                                                                                                  \n",
            " batch_normalization_18 (Ba  (None, 128, 160, 128)        512       ['conv2d_28[0][0]']           \n",
            " tchNormalization)                                                                                \n",
            "                                                                                                  \n",
            " add_6 (Add)                 (None, 128, 160, 128)        0         ['batch_normalization_20[0][0]\n",
            "                                                                    ',                            \n",
            "                                                                     'batch_normalization_18[0][0]\n",
            "                                                                    ']                            \n",
            "                                                                                                  \n",
            " activation_14 (Activation)  (None, 128, 160, 128)        0         ['add_6[0][0]']               \n",
            "                                                                                                  \n",
            " up_sampling2d_5 (UpSamplin  (None, 256, 320, 128)        0         ['activation_14[0][0]']       \n",
            " g2D)                                                                                             \n",
            "                                                                                                  \n",
            " conv2d_32 (Conv2D)          (None, 256, 320, 64)         73792     ['up_sampling2d_5[0][0]']     \n",
            "                                                                                                  \n",
            " batch_normalization_22 (Ba  (None, 256, 320, 64)         256       ['conv2d_32[0][0]']           \n",
            " tchNormalization)                                                                                \n",
            "                                                                                                  \n",
            " activation_15 (Activation)  (None, 256, 320, 64)         0         ['batch_normalization_22[0][0]\n",
            "                                                                    ']                            \n",
            "                                                                                                  \n",
            " conv2d_33 (Conv2D)          (None, 256, 320, 64)         36928     ['activation_15[0][0]']       \n",
            "                                                                                                  \n",
            " conv2d_31 (Conv2D)          (None, 256, 320, 64)         8256      ['up_sampling2d_5[0][0]']     \n",
            "                                                                                                  \n",
            " batch_normalization_23 (Ba  (None, 256, 320, 64)         256       ['conv2d_33[0][0]']           \n",
            " tchNormalization)                                                                                \n",
            "                                                                                                  \n",
            " batch_normalization_21 (Ba  (None, 256, 320, 64)         256       ['conv2d_31[0][0]']           \n",
            " tchNormalization)                                                                                \n",
            "                                                                                                  \n",
            " add_7 (Add)                 (None, 256, 320, 64)         0         ['batch_normalization_23[0][0]\n",
            "                                                                    ',                            \n",
            "                                                                     'batch_normalization_21[0][0]\n",
            "                                                                    ']                            \n",
            "                                                                                                  \n",
            " activation_16 (Activation)  (None, 256, 320, 64)         0         ['add_7[0][0]']               \n",
            "                                                                                                  \n",
            " conv2d_34 (Conv2D)          (None, 256, 320, 7)          455       ['activation_16[0][0]']       \n",
            "                                                                                                  \n",
            "==================================================================================================\n",
            "Total params: 12360135 (47.15 MB)\n",
            "Trainable params: 12348615 (47.11 MB)\n",
            "Non-trainable params: 11520 (45.00 KB)\n",
            "__________________________________________________________________________________________________\n"
          ]
        }
      ],
      "source": [
        "# Build LinkNet model with VGG16 architecture\n",
        "linknet_vgg16_model = linknet_vgg16()\n",
        "linknet_vgg16_model.summary()"
      ]
    },
    {
      "cell_type": "code",
      "execution_count": null,
      "metadata": {
        "id": "KJW0aUEJptJM"
      },
      "outputs": [],
      "source": [
        "from tensorflow.keras.layers import Concatenate"
      ]
    },
    {
      "cell_type": "code",
      "execution_count": null,
      "metadata": {
        "id": "kTYsUoYCpuN4"
      },
      "outputs": [],
      "source": [
        "vgg_unet_conv7 = vgg_unet_model1.get_layer('conv2d_9').output  # Assuming 'conv7' is the layer you want to fuse from U-Net with VGG16\n",
        "linknet_vgg16_dec1 = linknet_vgg16_model.get_layer('conv2d_34').output  # Assuming 'conv1' is the layer you want to fuse from LinkNet with VGG16\n"
      ]
    },
    {
      "cell_type": "code",
      "execution_count": null,
      "metadata": {
        "id": "Dm9NIX8hpvqo"
      },
      "outputs": [],
      "source": [
        "def specificity(y_true, y_pred):\n",
        "    true_negatives = K.sum(K.round(K.clip((1 - y_true) * (1 - y_pred), 0, 1)))\n",
        "    possible_negatives = K.sum(K.round(K.clip(1 - y_true, 0, 1)))\n",
        "    return true_negatives / (possible_negatives + K.epsilon())"
      ]
    },
    {
      "cell_type": "code",
      "execution_count": null,
      "metadata": {
        "id": "UZ4CWwitpw0i"
      },
      "outputs": [],
      "source": [
        "def sensitivity(y_true, y_pred):\n",
        "    true_positives = K.sum(K.round(K.clip(y_true * y_pred, 0, 1)))\n",
        "    possible_positives = K.sum(K.round(K.clip(y_true, 0, 1)))\n",
        "    return true_positives / (possible_positives + K.epsilon())"
      ]
    },
    {
      "cell_type": "code",
      "execution_count": null,
      "metadata": {
        "id": "VhkRQBuBpx9Y"
      },
      "outputs": [],
      "source": [
        "def f1_score_metric(y_true, y_pred):\n",
        "    y_true = K.cast(K.argmax(y_true, axis=-1), dtype='float32')\n",
        "    y_pred = K.cast(K.argmax(y_pred, axis=-1), dtype='float32')\n",
        "    true_positives = K.sum(K.round(K.clip(y_true * y_pred, 0, 1)))\n",
        "    predicted_positives = K.sum(K.round(K.clip(y_pred, 0, 1)))\n",
        "    possible_positives = K.sum(K.round(K.clip(y_true, 0, 1)))\n",
        "    precision = true_positives / (predicted_positives + K.epsilon())\n",
        "    recall = true_positives / (possible_positives + K.epsilon())\n",
        "    f1 = 2 * (precision * recall) / (precision + recall + K.epsilon())\n",
        "    return f1"
      ]
    },
    {
      "cell_type": "code",
      "execution_count": null,
      "metadata": {
        "id": "MKAzZ9tCpzSe"
      },
      "outputs": [],
      "source": [
        "log_dir_linknet_vgg16 = os.path.join('linknet_vgg16_model')\n",
        "tensorboard_callback_linknet_vgg16 = tf.keras.callbacks.TensorBoard(log_dir=log_dir_linknet_vgg16)\n"
      ]
    },
    {
      "cell_type": "code",
      "execution_count": null,
      "metadata": {
        "id": "q_DPkHufp0gm"
      },
      "outputs": [],
      "source": [
        "log_dir_1 = os.path.join('vgg_unet_model1')\n",
        "tensorboard_callback1 = tf.keras.callbacks.TensorBoard(log_dir=log_dir_1)\n"
      ]
    },
    {
      "cell_type": "code",
      "execution_count": null,
      "metadata": {
        "id": "LAJffzeSp1lT"
      },
      "outputs": [],
      "source": [
        "def create_fused_model():\n",
        "    # Define the desired convolutional layers from each model\n",
        "    vgg_unet_conv7 = vgg_unet_model1.get_layer('conv2d_9').output  # Assuming 'conv7' is the layer you want to fuse from U-Net with VGG16\n",
        "    linknet_vgg16_dec1 = linknet_vgg16_model.get_layer('conv2d_34').output  # Assuming 'conv1' is the layer you want to fuse from LinkNet with VGG16\n",
        "\n",
        "    # Concatenate the convolutional layers\n",
        "    fusion_layer = Concatenate()([vgg_unet_conv7, linknet_vgg16_dec1])\n",
        "\n",
        "    # Continue with further convolutional layers if needed\n",
        "    fusion_conv = Conv2D(64, 3, activation='relu', padding='same', kernel_initializer='glorot_normal')(fusion_layer)\n",
        "    fusion_conv = Conv2D(64, 3, activation='relu', padding='same', kernel_initializer='glorot_normal')(fusion_conv)\n",
        "\n",
        "    # Define the output layer\n",
        "    fusion_output = Conv2D(7, 3, activation='softmax', padding='same', kernel_initializer='glorot_normal')(fusion_conv)\n",
        "\n",
        "    # Define the fused model\n",
        "    fused_model = Model(inputs=[vgg_unet_model1.input, linknet_vgg16_model.input], outputs=fusion_output)\n",
        "\n",
        "    # Compile the fused model\n",
        "    fused_model.compile(optimizer=Adam(0.0001), loss='categorical_crossentropy', metrics=['accuracy', miou])\n",
        "\n",
        "    return fused_model"
      ]
    },
    {
      "cell_type": "code",
      "execution_count": null,
      "metadata": {
        "id": "FinakZxXp24n"
      },
      "outputs": [],
      "source": [
        "fused_model = create_fused_model()\n"
      ]
    },
    {
      "cell_type": "code",
      "execution_count": null,
      "metadata": {
        "id": "AlceuONbp4F0"
      },
      "outputs": [],
      "source": [
        "fused_model.compile(optimizer=Adam(0.0001), loss='categorical_crossentropy', metrics=['accuracy', miou,specificity,sensitivity,f1_score_metric])\n"
      ]
    },
    {
      "cell_type": "code",
      "execution_count": null,
      "metadata": {
        "colab": {
          "base_uri": "https://localhost:8080/"
        },
        "id": "kj0iCu4Op5QF",
        "outputId": "a411dc95-590c-4767-f3ca-6feecf316c64"
      },
      "outputs": [
        {
          "name": "stdout",
          "output_type": "stream",
          "text": [
            "Model: \"model_1\"\n",
            "__________________________________________________________________________________________________\n",
            " Layer (type)                Output Shape                 Param #   Connected to                  \n",
            "==================================================================================================\n",
            " input_2 (InputLayer)        [(None, 256, 320, 3)]        0         []                            \n",
            "                                                                                                  \n",
            " encoder (Functional)        (None, 32, 40, 512)          4870080   ['input_2[0][0]']             \n",
            "                                                                                                  \n",
            " conv2d_23 (Conv2D)          (None, 32, 40, 512)          2359808   ['encoder[0][0]']             \n",
            "                                                                                                  \n",
            " batch_normalization_13 (Ba  (None, 32, 40, 512)          2048      ['conv2d_23[0][0]']           \n",
            " tchNormalization)                                                                                \n",
            "                                                                                                  \n",
            " input_1 (InputLayer)        [(None, 256, 320, 3)]        0         []                            \n",
            "                                                                                                  \n",
            " activation_9 (Activation)   (None, 32, 40, 512)          0         ['batch_normalization_13[0][0]\n",
            "                                                                    ']                            \n",
            "                                                                                                  \n",
            " block1_conv1 (Conv2D)       (None, 256, 320, 64)         1792      ['input_1[0][0]']             \n",
            "                                                                                                  \n",
            " conv2d_24 (Conv2D)          (None, 32, 40, 512)          2359808   ['activation_9[0][0]']        \n",
            "                                                                                                  \n",
            " conv2d_22 (Conv2D)          (None, 32, 40, 512)          262656    ['encoder[0][0]']             \n",
            "                                                                                                  \n",
            " block1_conv2 (Conv2D)       (None, 256, 320, 64)         36928     ['block1_conv1[0][0]']        \n",
            "                                                                                                  \n",
            " batch_normalization_14 (Ba  (None, 32, 40, 512)          2048      ['conv2d_24[0][0]']           \n",
            " tchNormalization)                                                                                \n",
            "                                                                                                  \n",
            " batch_normalization_12 (Ba  (None, 32, 40, 512)          2048      ['conv2d_22[0][0]']           \n",
            " tchNormalization)                                                                                \n",
            "                                                                                                  \n",
            " block1_pool (MaxPooling2D)  (None, 128, 160, 64)         0         ['block1_conv2[0][0]']        \n",
            "                                                                                                  \n",
            " add_4 (Add)                 (None, 32, 40, 512)          0         ['batch_normalization_14[0][0]\n",
            "                                                                    ',                            \n",
            "                                                                     'batch_normalization_12[0][0]\n",
            "                                                                    ']                            \n",
            "                                                                                                  \n",
            " block2_conv1 (Conv2D)       (None, 128, 160, 128)        73856     ['block1_pool[0][0]']         \n",
            "                                                                                                  \n",
            " activation_10 (Activation)  (None, 32, 40, 512)          0         ['add_4[0][0]']               \n",
            "                                                                                                  \n",
            " block2_conv2 (Conv2D)       (None, 128, 160, 128)        147584    ['block2_conv1[0][0]']        \n",
            "                                                                                                  \n",
            " up_sampling2d_3 (UpSamplin  (None, 64, 80, 512)          0         ['activation_10[0][0]']       \n",
            " g2D)                                                                                             \n",
            "                                                                                                  \n",
            " block2_pool (MaxPooling2D)  (None, 64, 80, 128)          0         ['block2_conv2[0][0]']        \n",
            "                                                                                                  \n",
            " conv2d_26 (Conv2D)          (None, 64, 80, 256)          1179904   ['up_sampling2d_3[0][0]']     \n",
            "                                                                                                  \n",
            " block3_conv1 (Conv2D)       (None, 64, 80, 256)          295168    ['block2_pool[0][0]']         \n",
            "                                                                                                  \n",
            " batch_normalization_16 (Ba  (None, 64, 80, 256)          1024      ['conv2d_26[0][0]']           \n",
            " tchNormalization)                                                                                \n",
            "                                                                                                  \n",
            " block3_conv2 (Conv2D)       (None, 64, 80, 256)          590080    ['block3_conv1[0][0]']        \n",
            "                                                                                                  \n",
            " activation_11 (Activation)  (None, 64, 80, 256)          0         ['batch_normalization_16[0][0]\n",
            "                                                                    ']                            \n",
            "                                                                                                  \n",
            " block3_conv3 (Conv2D)       (None, 64, 80, 256)          590080    ['block3_conv2[0][0]']        \n",
            "                                                                                                  \n",
            " conv2d_27 (Conv2D)          (None, 64, 80, 256)          590080    ['activation_11[0][0]']       \n",
            "                                                                                                  \n",
            " conv2d_25 (Conv2D)          (None, 64, 80, 256)          131328    ['up_sampling2d_3[0][0]']     \n",
            "                                                                                                  \n",
            " block3_pool (MaxPooling2D)  (None, 32, 40, 256)          0         ['block3_conv3[0][0]']        \n",
            "                                                                                                  \n",
            " batch_normalization_17 (Ba  (None, 64, 80, 256)          1024      ['conv2d_27[0][0]']           \n",
            " tchNormalization)                                                                                \n",
            "                                                                                                  \n",
            " batch_normalization_15 (Ba  (None, 64, 80, 256)          1024      ['conv2d_25[0][0]']           \n",
            " tchNormalization)                                                                                \n",
            "                                                                                                  \n",
            " block4_conv1 (Conv2D)       (None, 32, 40, 512)          1180160   ['block3_pool[0][0]']         \n",
            "                                                                                                  \n",
            " add_5 (Add)                 (None, 64, 80, 256)          0         ['batch_normalization_17[0][0]\n",
            "                                                                    ',                            \n",
            "                                                                     'batch_normalization_15[0][0]\n",
            "                                                                    ']                            \n",
            "                                                                                                  \n",
            " block4_conv2 (Conv2D)       (None, 32, 40, 512)          2359808   ['block4_conv1[0][0]']        \n",
            "                                                                                                  \n",
            " activation_12 (Activation)  (None, 64, 80, 256)          0         ['add_5[0][0]']               \n",
            "                                                                                                  \n",
            " block4_conv3 (Conv2D)       (None, 32, 40, 512)          2359808   ['block4_conv2[0][0]']        \n",
            "                                                                                                  \n",
            " up_sampling2d_4 (UpSamplin  (None, 128, 160, 256)        0         ['activation_12[0][0]']       \n",
            " g2D)                                                                                             \n",
            "                                                                                                  \n",
            " up_sampling2d (UpSampling2  (None, 64, 80, 512)          0         ['block4_conv3[0][0]']        \n",
            " D)                                                                                               \n",
            "                                                                                                  \n",
            " conv2d_29 (Conv2D)          (None, 128, 160, 128)        295040    ['up_sampling2d_4[0][0]']     \n",
            "                                                                                                  \n",
            " conv2d (Conv2D)             (None, 64, 80, 256)          524544    ['up_sampling2d[0][0]']       \n",
            "                                                                                                  \n",
            " batch_normalization_19 (Ba  (None, 128, 160, 128)        512       ['conv2d_29[0][0]']           \n",
            " tchNormalization)                                                                                \n",
            "                                                                                                  \n",
            " concatenate (Concatenate)   (None, 64, 80, 512)          0         ['block3_conv3[0][0]',        \n",
            "                                                                     'conv2d[0][0]']              \n",
            "                                                                                                  \n",
            " activation_13 (Activation)  (None, 128, 160, 128)        0         ['batch_normalization_19[0][0]\n",
            "                                                                    ']                            \n",
            "                                                                                                  \n",
            " conv2d_1 (Conv2D)           (None, 64, 80, 256)          1179904   ['concatenate[0][0]']         \n",
            "                                                                                                  \n",
            " conv2d_30 (Conv2D)          (None, 128, 160, 128)        147584    ['activation_13[0][0]']       \n",
            "                                                                                                  \n",
            " conv2d_28 (Conv2D)          (None, 128, 160, 128)        32896     ['up_sampling2d_4[0][0]']     \n",
            "                                                                                                  \n",
            " conv2d_2 (Conv2D)           (None, 64, 80, 256)          590080    ['conv2d_1[0][0]']            \n",
            "                                                                                                  \n",
            " batch_normalization_20 (Ba  (None, 128, 160, 128)        512       ['conv2d_30[0][0]']           \n",
            " tchNormalization)                                                                                \n",
            "                                                                                                  \n",
            " batch_normalization_18 (Ba  (None, 128, 160, 128)        512       ['conv2d_28[0][0]']           \n",
            " tchNormalization)                                                                                \n",
            "                                                                                                  \n",
            " up_sampling2d_1 (UpSamplin  (None, 128, 160, 256)        0         ['conv2d_2[0][0]']            \n",
            " g2D)                                                                                             \n",
            "                                                                                                  \n",
            " add_6 (Add)                 (None, 128, 160, 128)        0         ['batch_normalization_20[0][0]\n",
            "                                                                    ',                            \n",
            "                                                                     'batch_normalization_18[0][0]\n",
            "                                                                    ']                            \n",
            "                                                                                                  \n",
            " conv2d_3 (Conv2D)           (None, 128, 160, 128)        131200    ['up_sampling2d_1[0][0]']     \n",
            "                                                                                                  \n",
            " activation_14 (Activation)  (None, 128, 160, 128)        0         ['add_6[0][0]']               \n",
            "                                                                                                  \n",
            " concatenate_1 (Concatenate  (None, 128, 160, 256)        0         ['block2_conv2[0][0]',        \n",
            " )                                                                   'conv2d_3[0][0]']            \n",
            "                                                                                                  \n",
            " up_sampling2d_5 (UpSamplin  (None, 256, 320, 128)        0         ['activation_14[0][0]']       \n",
            " g2D)                                                                                             \n",
            "                                                                                                  \n",
            " conv2d_4 (Conv2D)           (None, 128, 160, 128)        295040    ['concatenate_1[0][0]']       \n",
            "                                                                                                  \n",
            " conv2d_32 (Conv2D)          (None, 256, 320, 64)         73792     ['up_sampling2d_5[0][0]']     \n",
            "                                                                                                  \n",
            " conv2d_5 (Conv2D)           (None, 128, 160, 128)        147584    ['conv2d_4[0][0]']            \n",
            "                                                                                                  \n",
            " batch_normalization_22 (Ba  (None, 256, 320, 64)         256       ['conv2d_32[0][0]']           \n",
            " tchNormalization)                                                                                \n",
            "                                                                                                  \n",
            " up_sampling2d_2 (UpSamplin  (None, 256, 320, 128)        0         ['conv2d_5[0][0]']            \n",
            " g2D)                                                                                             \n",
            "                                                                                                  \n",
            " activation_15 (Activation)  (None, 256, 320, 64)         0         ['batch_normalization_22[0][0]\n",
            "                                                                    ']                            \n",
            "                                                                                                  \n",
            " conv2d_6 (Conv2D)           (None, 256, 320, 64)         32832     ['up_sampling2d_2[0][0]']     \n",
            "                                                                                                  \n",
            " conv2d_33 (Conv2D)          (None, 256, 320, 64)         36928     ['activation_15[0][0]']       \n",
            "                                                                                                  \n",
            " conv2d_31 (Conv2D)          (None, 256, 320, 64)         8256      ['up_sampling2d_5[0][0]']     \n",
            "                                                                                                  \n",
            " concatenate_2 (Concatenate  (None, 256, 320, 128)        0         ['block1_conv2[0][0]',        \n",
            " )                                                                   'conv2d_6[0][0]']            \n",
            "                                                                                                  \n",
            " batch_normalization_23 (Ba  (None, 256, 320, 64)         256       ['conv2d_33[0][0]']           \n",
            " tchNormalization)                                                                                \n",
            "                                                                                                  \n",
            " batch_normalization_21 (Ba  (None, 256, 320, 64)         256       ['conv2d_31[0][0]']           \n",
            " tchNormalization)                                                                                \n",
            "                                                                                                  \n",
            " conv2d_7 (Conv2D)           (None, 256, 320, 64)         73792     ['concatenate_2[0][0]']       \n",
            "                                                                                                  \n",
            " add_7 (Add)                 (None, 256, 320, 64)         0         ['batch_normalization_23[0][0]\n",
            "                                                                    ',                            \n",
            "                                                                     'batch_normalization_21[0][0]\n",
            "                                                                    ']                            \n",
            "                                                                                                  \n",
            " conv2d_8 (Conv2D)           (None, 256, 320, 64)         36928     ['conv2d_7[0][0]']            \n",
            "                                                                                                  \n",
            " activation_16 (Activation)  (None, 256, 320, 64)         0         ['add_7[0][0]']               \n",
            "                                                                                                  \n",
            " conv2d_9 (Conv2D)           (None, 256, 320, 7)          4039      ['conv2d_8[0][0]']            \n",
            "                                                                                                  \n",
            " conv2d_34 (Conv2D)          (None, 256, 320, 7)          455       ['activation_16[0][0]']       \n",
            "                                                                                                  \n",
            " concatenate_3 (Concatenate  (None, 256, 320, 14)         0         ['conv2d_9[0][0]',            \n",
            " )                                                                   'conv2d_34[0][0]']           \n",
            "                                                                                                  \n",
            " conv2d_35 (Conv2D)          (None, 256, 320, 64)         8128      ['concatenate_3[0][0]']       \n",
            "                                                                                                  \n",
            " conv2d_36 (Conv2D)          (None, 256, 320, 64)         36928     ['conv2d_35[0][0]']           \n",
            "                                                                                                  \n",
            " conv2d_37 (Conv2D)          (None, 256, 320, 7)          4039      ['conv2d_36[0][0]']           \n",
            "                                                                                                  \n",
            "==================================================================================================\n",
            "Total params: 23060437 (87.97 MB)\n",
            "Trainable params: 15413653 (58.80 MB)\n",
            "Non-trainable params: 7646784 (29.17 MB)\n",
            "__________________________________________________________________________________________________\n"
          ]
        }
      ],
      "source": [
        "fused_model.summary()"
      ]
    },
    {
      "cell_type": "code",
      "execution_count": null,
      "metadata": {
        "colab": {
          "base_uri": "https://localhost:8080/"
        },
        "id": "BWhq96SWp7mF",
        "outputId": "bc23bd94-ba0e-4940-d814-de73c0bccb0c"
      },
      "outputs": [
        {
          "data": {
            "text/plain": [
              "69"
            ]
          },
          "execution_count": 41,
          "metadata": {},
          "output_type": "execute_result"
        }
      ],
      "source": [
        "x=np.array(X_train).shape[0]//15\n",
        "x"
      ]
    },
    {
      "cell_type": "code",
      "execution_count": null,
      "metadata": {
        "id": "m2_CHPMPp9Nq"
      },
      "outputs": [],
      "source": [
        "import time"
      ]
    },
    {
      "cell_type": "code",
      "execution_count": null,
      "metadata": {
        "id": "RwsMaMbqp-UC"
      },
      "outputs": [],
      "source": [
        "start_time = time.time()"
      ]
    },
    {
      "cell_type": "code",
      "execution_count": null,
      "metadata": {
        "colab": {
          "background_save": true,
          "base_uri": "https://localhost:8080/"
        },
        "id": "ACRYlWTMp_nK",
        "outputId": "137fbc10-3853-4a41-d750-63c5a672228f"
      },
      "outputs": [
        {
          "output_type": "stream",
          "name": "stdout",
          "text": [
            "Epoch 1/20\n",
            "69/69 [==============================] - 3969s 57s/step - loss: 1.1822 - accuracy: 0.6085 - miou: 0.2421 - specificity: 0.9916 - sensitivity: 0.3373 - f1_score_metric: 0.8494 - val_loss: 0.8170 - val_accuracy: 0.7044 - val_miou: 0.3058 - val_specificity: 0.9812 - val_sensitivity: 0.6202 - val_f1_score_metric: 0.8695\n",
            "Epoch 2/20\n",
            "69/69 [==============================] - 3889s 56s/step - loss: 0.6653 - accuracy: 0.7635 - miou: 0.3937 - specificity: 0.9824 - sensitivity: 0.6785 - f1_score_metric: 0.9477 - val_loss: 0.6650 - val_accuracy: 0.7483 - val_miou: 0.4137 - val_specificity: 0.9797 - val_sensitivity: 0.6670 - val_f1_score_metric: 0.9504\n",
            "Epoch 3/20\n",
            "69/69 [==============================] - 3970s 58s/step - loss: 0.5631 - accuracy: 0.7941 - miou: 0.4411 - specificity: 0.9827 - sensitivity: 0.7239 - f1_score_metric: 0.9613 - val_loss: 0.6166 - val_accuracy: 0.7657 - val_miou: 0.4430 - val_specificity: 0.9809 - val_sensitivity: 0.6918 - val_f1_score_metric: 0.9461\n",
            "Epoch 4/20\n",
            "69/69 [==============================] - 3927s 57s/step - loss: 0.5192 - accuracy: 0.8075 - miou: 0.4683 - specificity: 0.9830 - sensitivity: 0.7428 - f1_score_metric: 0.9667 - val_loss: 0.5666 - val_accuracy: 0.7897 - val_miou: 0.4674 - val_specificity: 0.9808 - val_sensitivity: 0.7301 - val_f1_score_metric: 0.9569\n",
            "Epoch 5/20\n",
            "69/69 [==============================] - 3978s 58s/step - loss: 0.4968 - accuracy: 0.8152 - miou: 0.4825 - specificity: 0.9830 - sensitivity: 0.7563 - f1_score_metric: 0.9703 - val_loss: 0.5298 - val_accuracy: 0.8012 - val_miou: 0.4718 - val_specificity: 0.9832 - val_sensitivity: 0.7359 - val_f1_score_metric: 0.9561\n",
            "Epoch 6/20\n",
            "69/69 [==============================] - 4013s 58s/step - loss: 0.4784 - accuracy: 0.8217 - miou: 0.4919 - specificity: 0.9829 - sensitivity: 0.7674 - f1_score_metric: 0.9714 - val_loss: 0.4883 - val_accuracy: 0.8174 - val_miou: 0.4893 - val_specificity: 0.9835 - val_sensitivity: 0.7584 - val_f1_score_metric: 0.9661\n",
            "Epoch 7/20\n",
            "69/69 [==============================] - 4042s 59s/step - loss: 0.4544 - accuracy: 0.8302 - miou: 0.5103 - specificity: 0.9836 - sensitivity: 0.7780 - f1_score_metric: 0.9729 - val_loss: 0.4977 - val_accuracy: 0.8134 - val_miou: 0.5102 - val_specificity: 0.9795 - val_sensitivity: 0.7718 - val_f1_score_metric: 0.9632\n",
            "Epoch 8/20\n",
            "21/69 [========>.....................] - ETA: 42:12 - loss: 0.4416 - accuracy: 0.8358 - miou: 0.5309 - specificity: 0.9836 - sensitivity: 0.7880 - f1_score_metric: 0.9738"
          ]
        }
      ],
      "source": [
        "history_fused = fused_model.fit([X_train, X_train], y_train, steps_per_epoch=x, epochs=20, verbose=1, validation_data=([X_val, X_val], y_val), callbacks=[tensorboard_callback1, tensorboard_callback_linknet_vgg16])\n"
      ]
    },
    {
      "cell_type": "code",
      "execution_count": null,
      "metadata": {
        "id": "1swOM1KZqENq"
      },
      "outputs": [],
      "source": [
        "end_time = time.time()"
      ]
    },
    {
      "cell_type": "code",
      "execution_count": null,
      "metadata": {
        "id": "1Fk9bpH2qFSW"
      },
      "outputs": [],
      "source": [
        "print(\"Training time:\", end_time - start_time, \"seconds\")"
      ]
    }
  ],
  "metadata": {
    "colab": {
      "machine_shape": "hm",
      "provenance": []
    },
    "kernelspec": {
      "display_name": "Python 3",
      "name": "python3"
    },
    "language_info": {
      "name": "python"
    }
  },
  "nbformat": 4,
  "nbformat_minor": 0
}